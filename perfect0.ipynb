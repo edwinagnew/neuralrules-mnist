{
 "cells": [
  {
   "cell_type": "code",
   "execution_count": 1,
   "metadata": {},
   "outputs": [
    {
     "name": "stdout",
     "output_type": "stream",
     "text": [
      "Epoch 0 : 8008 / 10000\n",
      "Epoch 1 : 8063 / 10000\n",
      "Epoch 2 : 8074 / 10000\n"
     ]
    }
   ],
   "source": [
    "import networksteep\n",
    "import numpy as np\n",
    "\n",
    "test_net = networksteep.Network([784,30,10])\n",
    "import mnist_loader\n",
    "training_data, validation_data, test_data = mnist_loader.load_data_wrapper()\n",
    "training_data = list(training_data)\n",
    "test_net.SGD(training_data, 3,10,3.0, test_data=test_data)"
   ]
  },
  {
   "cell_type": "code",
   "execution_count": 2,
   "metadata": {},
   "outputs": [
    {
     "data": {
      "text/plain": [
       "5000"
      ]
     },
     "execution_count": 2,
     "metadata": {},
     "output_type": "execute_result"
    }
   ],
   "source": [
    "n = len(training_data)\n",
    "mini_batch_size = 10\n",
    "mini_batches = [\n",
    "                training_data[k:k+mini_batch_size]\n",
    "                for k in range(0, n, mini_batch_size)]\n",
    "len(mini_batches)"
   ]
  },
  {
   "cell_type": "code",
   "execution_count": 3,
   "metadata": {},
   "outputs": [
    {
     "data": {
      "text/plain": [
       "10"
      ]
     },
     "execution_count": 3,
     "metadata": {},
     "output_type": "execute_result"
    }
   ],
   "source": [
    "len(mini_batches[0])"
   ]
  },
  {
   "cell_type": "code",
   "execution_count": 26,
   "metadata": {},
   "outputs": [
    {
     "name": "stdout",
     "output_type": "stream",
     "text": [
      "(30, 784)\n",
      "(10, 30)\n"
     ]
    }
   ],
   "source": [
    "print(test_net.weights[0].shape)\n",
    "print(test_net.weights[1].shape)"
   ]
  },
  {
   "cell_type": "code",
   "execution_count": 23,
   "metadata": {},
   "outputs": [
    {
     "name": "stdout",
     "output_type": "stream",
     "text": [
      "5 : \n",
      "(30, 784)\n",
      "(10, 30)\n",
      "0 : \n",
      "(30, 784)\n",
      "(10, 30)\n",
      "4 : \n",
      "(30, 784)\n",
      "(10, 30)\n",
      "1 : \n",
      "(30, 784)\n",
      "(10, 30)\n",
      "9 : \n",
      "(30, 784)\n",
      "(10, 30)\n",
      "2 : \n",
      "(30, 784)\n",
      "(10, 30)\n",
      "1 : \n",
      "(30, 784)\n",
      "(10, 30)\n",
      "3 : \n",
      "(30, 784)\n",
      "(10, 30)\n",
      "1 : \n",
      "(30, 784)\n",
      "(10, 30)\n",
      "4 : \n",
      "(30, 784)\n",
      "(10, 30)\n"
     ]
    }
   ],
   "source": [
    "import matplotlib.pyplot as plt\n",
    "for x,y in mini_batches[0]:\n",
    "    print(np.argmax(y), ': ')\n",
    "    nabla_b, nabla_w = test_net.backprop(x,y)\n",
    "    #print(nabla_w[0].shape)\n",
    "    #print(nabla_w[1].shape)\n",
    "    img = nabla_w[0][i].reshape(28,28)\n",
    "    plt.imshow(img, interpolation='nearest')\n",
    "    s = 'weights' + str(i) \n",
    "    plt.title(s)\n",
    "    plt.show()\n",
    "    \n"
   ]
  },
  {
   "cell_type": "code",
   "execution_count": 5,
   "metadata": {},
   "outputs": [
    {
     "ename": "ValueError",
     "evalue": "operands could not be broadcast together with shapes (10,30) (10,) ",
     "output_type": "error",
     "traceback": [
      "\u001b[0;31m---------------------------------------------------------------------------\u001b[0m",
      "\u001b[0;31mValueError\u001b[0m                                Traceback (most recent call last)",
      "\u001b[0;32m<ipython-input-5-107a09235770>\u001b[0m in \u001b[0;36m<module>\u001b[0;34m\u001b[0m\n\u001b[0;32m----> 1\u001b[0;31m \u001b[0mtest_net\u001b[0m\u001b[0;34m.\u001b[0m\u001b[0mbackprop\u001b[0m\u001b[0;34m(\u001b[0m\u001b[0mnp\u001b[0m\u001b[0;34m.\u001b[0m\u001b[0mrandom\u001b[0m\u001b[0;34m.\u001b[0m\u001b[0mrandn\u001b[0m\u001b[0;34m(\u001b[0m\u001b[0;36m784\u001b[0m\u001b[0;34m)\u001b[0m\u001b[0;34m,\u001b[0m \u001b[0;34m[\u001b[0m\u001b[0;36m1\u001b[0m\u001b[0;34m,\u001b[0m\u001b[0;36m0\u001b[0m\u001b[0;34m,\u001b[0m\u001b[0;36m0\u001b[0m\u001b[0;34m,\u001b[0m\u001b[0;36m0\u001b[0m\u001b[0;34m,\u001b[0m\u001b[0;36m0\u001b[0m\u001b[0;34m,\u001b[0m\u001b[0;36m0\u001b[0m\u001b[0;34m,\u001b[0m\u001b[0;36m0\u001b[0m\u001b[0;34m,\u001b[0m\u001b[0;36m0\u001b[0m\u001b[0;34m,\u001b[0m\u001b[0;36m0\u001b[0m\u001b[0;34m,\u001b[0m\u001b[0;36m0\u001b[0m\u001b[0;34m]\u001b[0m\u001b[0;34m)\u001b[0m\u001b[0;34m\u001b[0m\u001b[0;34m\u001b[0m\u001b[0m\n\u001b[0m",
      "\u001b[0;32m~/work/neuralrules-mnist/networksteep.py\u001b[0m in \u001b[0;36mbackprop\u001b[0;34m(self, x, y)\u001b[0m\n\u001b[1;32m    171\u001b[0m             \u001b[0mactivations\u001b[0m\u001b[0;34m.\u001b[0m\u001b[0mappend\u001b[0m\u001b[0;34m(\u001b[0m\u001b[0mactivation\u001b[0m\u001b[0;34m)\u001b[0m\u001b[0;34m\u001b[0m\u001b[0;34m\u001b[0m\u001b[0m\n\u001b[1;32m    172\u001b[0m         \u001b[0;31m# backward pass\u001b[0m\u001b[0;34m\u001b[0m\u001b[0;34m\u001b[0m\u001b[0;34m\u001b[0m\u001b[0m\n\u001b[0;32m--> 173\u001b[0;31m         \u001b[0mdelta\u001b[0m \u001b[0;34m=\u001b[0m \u001b[0mself\u001b[0m\u001b[0;34m.\u001b[0m\u001b[0mcost_derivative\u001b[0m\u001b[0;34m(\u001b[0m\u001b[0mactivations\u001b[0m\u001b[0;34m[\u001b[0m\u001b[0;34m-\u001b[0m\u001b[0;36m1\u001b[0m\u001b[0;34m]\u001b[0m\u001b[0;34m,\u001b[0m \u001b[0my\u001b[0m\u001b[0;34m)\u001b[0m \u001b[0;34m*\u001b[0m\u001b[0;31m \u001b[0m\u001b[0;31m\\\u001b[0m\u001b[0;34m\u001b[0m\u001b[0;34m\u001b[0m\u001b[0m\n\u001b[0m\u001b[1;32m    174\u001b[0m             \u001b[0msigmoid_prime\u001b[0m\u001b[0;34m(\u001b[0m\u001b[0mzs\u001b[0m\u001b[0;34m[\u001b[0m\u001b[0;34m-\u001b[0m\u001b[0;36m1\u001b[0m\u001b[0;34m]\u001b[0m\u001b[0;34m)\u001b[0m\u001b[0;34m\u001b[0m\u001b[0;34m\u001b[0m\u001b[0m\n\u001b[1;32m    175\u001b[0m         \u001b[0mnabla_b\u001b[0m\u001b[0;34m[\u001b[0m\u001b[0;34m-\u001b[0m\u001b[0;36m1\u001b[0m\u001b[0;34m]\u001b[0m \u001b[0;34m=\u001b[0m \u001b[0mdelta\u001b[0m\u001b[0;34m\u001b[0m\u001b[0;34m\u001b[0m\u001b[0m\n",
      "\u001b[0;32m~/work/neuralrules-mnist/networksteep.py\u001b[0m in \u001b[0;36mcost_derivative\u001b[0;34m(self, output_activations, y)\u001b[0m\n\u001b[1;32m    201\u001b[0m         \"\"\"Return the vector of partial derivatives \\partial C_x /\n\u001b[1;32m    202\u001b[0m         \\partial a for the output activations.\"\"\"\n\u001b[0;32m--> 203\u001b[0;31m         \u001b[0;32mreturn\u001b[0m \u001b[0;34m(\u001b[0m\u001b[0moutput_activations\u001b[0m\u001b[0;34m-\u001b[0m\u001b[0my\u001b[0m\u001b[0;34m)\u001b[0m\u001b[0;34m\u001b[0m\u001b[0;34m\u001b[0m\u001b[0m\n\u001b[0m\u001b[1;32m    204\u001b[0m \u001b[0;34m\u001b[0m\u001b[0m\n\u001b[1;32m    205\u001b[0m     \u001b[0;32mdef\u001b[0m \u001b[0mcopy\u001b[0m\u001b[0;34m(\u001b[0m\u001b[0mnet\u001b[0m\u001b[0;34m)\u001b[0m\u001b[0;34m:\u001b[0m\u001b[0;34m\u001b[0m\u001b[0;34m\u001b[0m\u001b[0m\n",
      "\u001b[0;31mValueError\u001b[0m: operands could not be broadcast together with shapes (10,30) (10,) "
     ]
    }
   ],
   "source": [
    "test_net.backprop(np.random.randn(784), [1,0.,0,0,0,0,0,0,0,0])"
   ]
  },
  {
   "cell_type": "code",
   "execution_count": 27,
   "metadata": {},
   "outputs": [
    {
     "data": {
      "text/plain": [
       "(10, 30)"
      ]
     },
     "execution_count": 27,
     "metadata": {},
     "output_type": "execute_result"
    }
   ],
   "source": [
    "test_net.weights[1].shape"
   ]
  },
  {
   "cell_type": "code",
   "execution_count": 29,
   "metadata": {},
   "outputs": [
    {
     "data": {
      "text/plain": [
       "array([-0.16182795, -1.74287158, -0.52607768,  0.85528611,  0.82736983,\n",
       "       -0.34509207, -1.09770865, -1.37713038,  0.93645945,  0.81631564,\n",
       "       -0.92598884, -2.33661432,  2.46640316,  0.58764908, -0.80806281,\n",
       "       -0.80494749,  0.71742881, -1.07107008,  0.95040443,  0.27797801,\n",
       "       -1.23238546, -1.9705906 , -0.14706289,  1.95758057,  0.63089099,\n",
       "        0.78603228, -0.89817675, -3.10945749, -1.64236661, -0.64843835])"
      ]
     },
     "execution_count": 29,
     "metadata": {},
     "output_type": "execute_result"
    }
   ],
   "source": [
    "test_net.weights[1][0]"
   ]
  },
  {
   "cell_type": "code",
   "execution_count": null,
   "metadata": {},
   "outputs": [],
   "source": [
    "activation = ?\n",
    "activations = [activation] # list to store all the activations, layer by layer\n",
    "zs = [] # list to store all the z vectors, layer by layer\n",
    "for b, w in zip(self.biases, self.weights):\n",
    "    z = np.dot(w, activation)+b\n",
    "    zs.append(z)\n",
    "    activation = sigmoid(z, self.steepener)\n",
    "    activations.append(activation)\n",
    "    # backward pass\n",
    "#delta = self.cost_derivative(activations[-1], y) * \\\n",
    "#    sigmoid_prime(zs[-1])\n",
    "#nabla_b[-1] = delta\n",
    "#nabla_w[-1] = np.dot(delta, activations[-2].transpose())"
   ]
  },
  {
   "cell_type": "code",
   "execution_count": 34,
   "metadata": {},
   "outputs": [
    {
     "name": "stdout",
     "output_type": "stream",
     "text": [
      "[[1 0 0 0 0 0 0 0 0 0 0 0 0 0 0 0 0 0 0 0 0 0 0 0 0 0 0 0 0 0]\n",
      " [0 0 0 0 0 0 0 0 0 0 0 0 0 0 0 0 0 0 0 0 0 0 0 0 0 0 0 0 0 0]\n",
      " [0 0 0 0 0 0 0 0 0 0 0 0 0 0 0 0 0 0 0 0 0 0 0 0 0 0 0 0 0 0]\n",
      " [0 0 0 0 0 0 0 0 0 0 0 0 0 0 0 0 0 0 0 0 0 0 0 0 0 0 0 0 0 0]\n",
      " [0 0 0 0 0 0 0 0 0 0 0 0 0 1 0 1 0 0 0 1 0 1 1 1 0 1 0 1 0 1]\n",
      " [1 0 0 0 0 1 0 0 0 0 0 0 0 1 0 1 0 0 0 1 0 1 1 1 0 1 0 1 0 1]\n",
      " [0 0 0 0 0 0 0 0 0 0 0 0 0 1 0 1 0 0 0 1 0 1 1 1 0 1 0 1 0 1]\n",
      " [0 0 0 0 0 1 0 0 0 0 0 0 0 0 0 0 0 0 0 0 0 0 0 0 0 0 0 0 0 0]\n",
      " [0 0 0 0 0 0 0 0 0 0 0 0 0 0 0 0 0 0 0 0 0 0 0 0 0 0 0 0 0 0]\n",
      " [0 0 0 0 0 0 0 0 0 0 0 0 0 1 0 1 0 0 0 1 0 1 1 1 0 1 0 1 0 1]]\n"
     ]
    }
   ],
   "source": [
    "test_net.steepener = 30\n",
    "print(test_net.feedforward(np.random.randn(784)))"
   ]
  },
  {
   "cell_type": "code",
   "execution_count": 52,
   "metadata": {},
   "outputs": [
    {
     "data": {
      "text/plain": [
       "(10,)"
      ]
     },
     "execution_count": 52,
     "metadata": {},
     "output_type": "execute_result"
    }
   ],
   "source": [
    "test_net.biases[1][:,0].shape"
   ]
  },
  {
   "cell_type": "code",
   "execution_count": 48,
   "metadata": {},
   "outputs": [
    {
     "name": "stdout",
     "output_type": "stream",
     "text": [
      "(10,) (10,)\n",
      "(30, 10)\n",
      "[-0.06117275  0.12435185 -0.17182329  0.08852991 -0.0054542   0.06616704\n",
      " -0.05707741 -0.32992479  0.08898108  0.0089266  -0.07677822  0.11574742\n",
      " -0.03383628 -0.09512847  0.12510548  0.07319767 -0.14765306 -0.1553596\n",
      " -0.18031562  0.04604651 -0.20452696 -0.1274408  -0.23701499 -0.15194422\n",
      " -0.02295155  0.10226208 -0.22810104 -0.27845976 -0.09926642 -0.11548178]\n"
     ]
    }
   ],
   "source": [
    "#what is reverse sigmoid?\n",
    "y = np.array([1.0,0,0,0,0,0,0,0,0,0])\n",
    "b = test_net.biases[1]\n",
    "print(y.shape,b[:,0].shape)\n",
    "print(np.linalg.pinv(test_net.weights[1]).shape)\n",
    "x = np.dot(y - b[:,0],np.linalg.pinv(test_net.weights[1]).transpose())\n",
    "print(x)"
   ]
  },
  {
   "cell_type": "code",
   "execution_count": 54,
   "metadata": {},
   "outputs": [
    {
     "name": "stdout",
     "output_type": "stream",
     "text": [
      "[ 9.62694605e-05  6.23166223e-03 -1.84690789e-02 -1.34431161e-02\n",
      " -2.62127886e-02 -2.31635935e-03 -5.65348002e-03 -2.35103907e-03\n",
      " -1.41821328e-03  1.44432266e-02  1.87808628e-03 -8.93923933e-03\n",
      "  1.44999985e-02  1.08168861e-02 -5.25538038e-04  1.01760798e-02\n",
      "  1.51530891e-02  2.91978513e-03 -4.17442404e-04  1.72337941e-03\n",
      "  1.92536706e-02 -1.97037610e-02  1.40855951e-03  9.21980511e-03\n",
      "  4.65498885e-03  2.79064139e-03 -9.21334667e-04  1.29442113e-02\n",
      "  5.99426609e-03 -1.69983954e-03  1.44860849e-02  7.14232906e-03\n",
      "  5.03835964e-03  3.28255136e-03  2.09216227e-03  2.64037112e-02\n",
      "  1.70721770e-03  6.70403957e-03  8.31697627e-03  1.83153563e-03\n",
      " -1.64517724e-02  4.76198187e-03  1.82151716e-02 -8.86025271e-03\n",
      "  1.01979412e-02 -1.27950590e-02  1.55431159e-02 -1.67223468e-02\n",
      " -1.09696028e-02 -1.71943045e-03 -3.58976940e-03 -1.30135505e-02\n",
      " -2.05397465e-02 -1.40652273e-02 -4.96521739e-04 -7.10898573e-03\n",
      "  1.02156394e-03 -2.43533635e-02 -1.84680032e-02 -4.01569543e-03\n",
      " -4.82729120e-03  1.25010039e-02 -3.26429342e-03 -1.42465833e-03\n",
      "  9.49808014e-03 -1.92814040e-03  9.09128358e-03  1.95892681e-02\n",
      "  7.00874105e-03  4.05189954e-03 -1.06721794e-03  1.35815446e-02\n",
      " -4.92306717e-03 -5.74728677e-03 -4.74568984e-03 -4.62158881e-03\n",
      " -9.96283565e-05  3.25538984e-03 -1.17567777e-02  1.95944464e-03\n",
      " -1.03039254e-03  8.82750409e-03  1.00726562e-03 -5.96788094e-03\n",
      " -1.44608938e-02 -1.89738880e-03 -1.10848565e-02 -4.92302493e-04\n",
      " -8.01991112e-03 -7.46298148e-03 -9.17893230e-03  2.12244344e-02\n",
      "  2.58324609e-03 -4.67522414e-03  1.48908098e-02  7.44861170e-03\n",
      " -3.14444733e-03  4.71942700e-03  3.93197220e-03  3.99838490e-03\n",
      " -3.99815145e-03  8.86195105e-03 -3.91228418e-04  6.90870379e-03\n",
      "  6.20186342e-03 -9.80963222e-03 -2.65814721e-04 -8.42058425e-03\n",
      " -5.27329374e-03 -2.83511406e-03 -9.38358028e-03  4.55091827e-03\n",
      "  9.81285108e-03  5.79485265e-03  2.94647197e-03 -6.33010570e-04\n",
      "  6.46497935e-03 -8.04797546e-03 -2.00156235e-02  7.77922923e-03\n",
      " -4.12180905e-03 -2.83848172e-03  1.04318598e-02 -1.24007707e-03\n",
      "  6.67702000e-03  5.24877422e-03  3.61301536e-03  9.81484288e-03\n",
      " -6.72339180e-03 -1.50548134e-03  1.86746892e-03  1.17065544e-02\n",
      "  2.01053099e-02  1.25593297e-02 -8.98281226e-04 -1.64276977e-02\n",
      " -5.65711034e-03  1.04549754e-03  7.87751123e-03 -1.75649232e-02\n",
      " -7.24383989e-04 -3.99047400e-03  1.91044451e-03 -1.38243182e-02\n",
      "  2.90830576e-03  9.34534561e-03  9.65884759e-03  3.93342614e-03\n",
      "  9.71279248e-03  4.84498714e-03  1.89549513e-03  1.09562701e-03\n",
      "  1.60008836e-02 -2.25737496e-02  6.31653050e-03  4.62174493e-03\n",
      " -1.87609222e-03  8.01673346e-04 -2.38384971e-03  2.10692564e-03\n",
      " -3.38202368e-03 -1.56434029e-02  2.87760957e-03 -1.74137397e-02\n",
      "  6.21412430e-03  1.29276945e-02  4.08971806e-03 -4.42965869e-03\n",
      "  1.02756022e-03  6.14306520e-04  8.16129368e-03  1.45885993e-02\n",
      "  1.19742618e-02 -4.43067004e-03 -5.93095772e-04 -4.33182182e-03\n",
      " -3.34526390e-03  1.74815736e-05  1.63556752e-02 -9.21828020e-03\n",
      " -2.52935351e-04  3.97246710e-04 -1.34102571e-04  3.76206878e-03\n",
      "  1.23657062e-03 -4.14138606e-03  1.17249482e-02 -8.11656904e-03\n",
      "  2.54146805e-03 -1.74670020e-02 -7.47769454e-03  5.01592105e-03\n",
      " -1.61785815e-02 -1.52058275e-03 -6.52614859e-03  1.63775745e-02\n",
      "  2.88918627e-03  6.39395326e-04  2.19800344e-02 -2.77989515e-03\n",
      "  8.53579187e-03 -1.18929406e-03 -1.22120451e-02 -1.45034100e-02\n",
      " -8.00039675e-03 -2.83621285e-03 -7.46878510e-03  5.15687754e-03\n",
      " -7.68681309e-03 -2.61594261e-03 -3.93437778e-03 -8.87631159e-03\n",
      " -3.28526969e-04  3.58104831e-03 -4.65792795e-04 -2.15050101e-03\n",
      " -2.40448221e-02 -6.53147210e-03  2.43593965e-02 -4.54445964e-03\n",
      " -2.57312780e-02 -4.41566877e-03 -1.90447734e-03 -3.60570699e-03\n",
      "  2.41245963e-04 -1.96276151e-02  9.65519361e-03 -1.13183296e-02\n",
      "  8.20987220e-03  4.01033890e-03 -3.42261484e-03 -3.29980436e-03\n",
      "  1.03211490e-03  2.20452772e-03 -1.64849085e-02 -1.91902612e-02\n",
      "  8.63462085e-03 -5.70644393e-03 -2.27758724e-03  1.34202411e-02\n",
      "  1.81626182e-02 -6.84364032e-03 -5.64638848e-03  9.16018932e-03\n",
      " -1.04630985e-02 -1.56900681e-02 -9.31210690e-04 -1.06521618e-02\n",
      "  7.35275748e-03 -1.54934031e-02 -3.71701438e-03 -6.18700340e-04\n",
      "  3.46307791e-04 -1.51203725e-02  1.40796895e-02  1.16971618e-02\n",
      " -3.02554959e-03 -1.59102926e-03  5.67057425e-03 -6.78273794e-03\n",
      " -8.72762165e-03  2.76084680e-03 -1.31531748e-03 -7.54602904e-03\n",
      " -9.60433003e-04 -1.17964475e-02 -1.09007227e-02  1.40372262e-02\n",
      "  1.31649853e-02  5.08242855e-03  7.72334898e-04 -1.32077191e-02\n",
      " -1.10755246e-02 -1.01464167e-02 -1.04592950e-02 -1.36101871e-02\n",
      "  2.59790299e-04 -5.06619224e-03  8.60838654e-03 -1.22416467e-02\n",
      "  1.28163917e-02 -1.29258928e-04 -1.23746137e-02 -9.61411536e-03\n",
      " -1.62521776e-02  1.06575129e-02 -7.86556755e-03 -2.65686553e-03\n",
      " -1.05601510e-02 -7.18632531e-03 -1.36982803e-02 -2.66850071e-02\n",
      " -7.61561720e-03 -1.69853545e-02  9.73888454e-03  1.96823101e-03\n",
      " -1.62929427e-02 -7.36816333e-03 -4.53247897e-03  2.76957275e-03\n",
      "  1.96008452e-02  1.66292206e-02  5.93658912e-03  1.03217917e-02\n",
      " -1.05221651e-02 -2.39527655e-03 -1.64147921e-02 -1.61182170e-02\n",
      "  1.15321228e-02  1.77367007e-02  4.94319130e-03 -8.08511630e-05\n",
      " -1.35191370e-03 -2.04881413e-02 -1.43423253e-02 -2.09742216e-02\n",
      " -2.07693107e-02 -1.50060987e-02 -7.23865447e-03 -1.71787214e-02\n",
      " -1.74037029e-02  1.91455682e-03  6.73694382e-03 -2.32417360e-03\n",
      " -6.31658797e-03 -1.74249608e-02  4.74341200e-03 -2.65678164e-03\n",
      " -6.23476269e-03 -4.37554863e-04  1.61814270e-02  7.03406710e-05\n",
      " -1.28723094e-02  1.11838321e-02  8.46965507e-03  1.01932715e-02\n",
      " -7.15858456e-03 -7.42218346e-03 -1.09606451e-03 -2.13358827e-02\n",
      " -9.21002158e-03  1.27230359e-02 -7.52324941e-04 -4.59750936e-03\n",
      " -1.84987671e-02 -1.45595595e-02 -8.04348270e-03 -2.30589603e-02\n",
      " -2.00774519e-02 -1.30567329e-02  9.59669788e-03 -6.78787984e-03\n",
      "  4.78107024e-03 -1.27388136e-03  2.89801427e-04 -7.36510532e-03\n",
      "  7.89748544e-03  1.06032032e-02 -2.93711221e-03  4.94745062e-03\n",
      " -1.45826476e-02 -5.71033294e-03  1.47463327e-02  1.18293189e-02\n",
      " -3.14473944e-03 -5.06456647e-03 -1.38953372e-02  5.83194026e-04\n",
      "  5.32909871e-04  6.51787803e-03 -1.23466814e-02 -5.02652964e-04\n",
      " -1.16127856e-02 -6.76369869e-04 -6.88496512e-03  1.10748774e-04\n",
      "  7.48473422e-04 -1.70946711e-03 -2.02577980e-04 -2.88517476e-03\n",
      " -6.13945969e-03  1.66875278e-03  6.12949758e-03 -2.24847169e-03\n",
      "  1.87987639e-04 -7.99366742e-03 -1.15053828e-02  6.17459667e-03\n",
      " -2.51884247e-03  7.71136196e-03  1.66770756e-03  6.77685706e-03\n",
      " -2.99306059e-03 -2.51689613e-04  3.89757086e-03  1.41346504e-02\n",
      "  1.18289174e-02 -4.81841051e-03  4.00566730e-03 -1.32669892e-02\n",
      " -9.68078185e-03  2.53683557e-03  9.00668349e-03  9.23524457e-03\n",
      "  2.55030942e-03  1.24631287e-02  1.10130213e-02 -3.11241382e-03\n",
      " -6.46669436e-03  2.02980157e-03 -5.78954326e-03  1.22446755e-02\n",
      " -8.58594841e-03  6.84153111e-03 -3.98319858e-03 -1.12712606e-02\n",
      "  1.69393963e-02 -3.05238415e-03 -1.82003642e-03  9.19330045e-03\n",
      "  1.23018079e-03 -4.48357637e-03  1.37829442e-02  2.30106890e-02\n",
      "  7.40618098e-03  1.19730315e-03  3.49776559e-04  3.14848936e-03\n",
      " -2.35830907e-02 -4.21496277e-03 -2.12150262e-02 -2.13583006e-03\n",
      " -4.16196491e-03 -2.87934759e-03  9.41575542e-03 -8.12158158e-03\n",
      " -1.57972788e-02 -3.49221808e-03  2.80416321e-03  5.16329297e-04\n",
      "  1.92173936e-02  8.42799303e-03  7.03629366e-03  8.73883110e-03\n",
      " -5.75312264e-03  4.17382711e-03 -1.80182041e-03 -5.09873601e-03\n",
      "  2.14397276e-03 -6.36599557e-04 -1.37020235e-02 -2.98909897e-03\n",
      " -3.05190450e-03 -1.17763556e-02 -1.10340822e-03  1.50234162e-02\n",
      " -2.98999178e-03 -2.45407982e-03  7.22327798e-03  6.50556622e-03\n",
      " -2.07716584e-04 -1.78256800e-03  1.10441545e-02  5.36502208e-04\n",
      " -1.29935372e-02 -8.65694281e-03 -4.45926150e-03 -1.29140097e-02\n",
      " -3.06723354e-03 -7.42600548e-03 -2.32018294e-03  2.05805829e-02\n",
      "  1.10320938e-03 -7.40003877e-03  2.10829854e-02 -2.65409469e-03\n",
      "  9.56982827e-03 -2.67321394e-03 -9.84521720e-03  5.06350754e-03\n",
      " -1.20016753e-02  2.48869080e-03 -2.42763725e-02  5.66045065e-03\n",
      "  3.60631844e-03  1.23745678e-04 -5.12559321e-03 -8.15769931e-03\n",
      " -3.69662420e-03  6.82348950e-04 -1.53207968e-02 -1.98161831e-02\n",
      " -1.39774720e-02 -1.12509344e-04 -2.07571269e-03  2.57194603e-03\n",
      " -1.51604283e-02  5.28865716e-03  1.69384079e-02  6.08415363e-04\n",
      " -4.32369028e-03 -1.13394324e-02  1.30919104e-02  1.28515324e-02\n",
      " -7.10736790e-03  3.67905150e-03  7.64688825e-03 -9.82797527e-03\n",
      " -1.03391162e-02 -1.64605971e-02  3.62686424e-03  4.49847800e-03\n",
      "  7.81461830e-03 -6.32941928e-03  9.63487335e-03 -1.16391273e-02\n",
      " -6.47624500e-03 -6.44209308e-03  8.13312206e-03 -3.99193800e-03\n",
      " -1.47072752e-03 -1.12546607e-02 -5.19415816e-03 -1.48658676e-03\n",
      " -7.57641080e-03 -3.38954229e-03  4.23476810e-03  8.23285938e-03\n",
      "  1.38903563e-02  5.82754978e-03 -7.59866353e-04  1.32263953e-02\n",
      " -5.72435114e-03 -1.00285266e-03  4.94802251e-03  4.99741785e-03\n",
      "  5.28095083e-03 -1.42761924e-02  5.57938514e-05  1.08749250e-02\n",
      "  9.89374410e-03  1.51011452e-02 -5.20969849e-03  1.05705029e-02\n",
      " -5.33991112e-04  1.07472495e-02 -1.37550273e-02  7.05433704e-03\n",
      "  3.91636987e-03 -5.26071228e-03 -2.93259782e-02 -1.10030489e-02\n",
      "  1.26566282e-02 -1.95300677e-04 -7.33703370e-03  5.57564585e-03\n",
      "  2.58892499e-03  4.84983239e-03 -1.09819079e-02 -3.80023175e-03\n",
      "  8.14073309e-03  4.91881983e-03  1.15843666e-02  2.40012889e-02\n",
      " -1.66652691e-02 -7.54157686e-03  7.10545009e-05  3.96423644e-03\n",
      " -1.32801971e-03 -1.06848450e-02  3.36885178e-03  3.79990781e-03\n",
      " -1.45666164e-02 -5.29910422e-03 -1.16428991e-03  1.44271711e-02\n",
      " -5.08357852e-03  3.66747096e-03  7.80209672e-03  5.45429558e-03\n",
      "  1.07568874e-03  3.71477979e-03  2.43863571e-03 -8.65616328e-03\n",
      "  7.09946565e-03 -6.22070493e-03  8.92992568e-03  2.95104274e-03\n",
      "  4.13926946e-03  1.01430617e-02 -7.25595908e-03  8.98352231e-03\n",
      " -3.64182763e-03 -6.11149700e-03  8.03949464e-03 -6.27897893e-03\n",
      "  5.68964034e-04  1.30233519e-02 -8.45481015e-04 -1.13239782e-02\n",
      "  1.22068354e-03  6.65315517e-03  1.76202199e-02 -1.04480098e-02\n",
      "  2.57525777e-03  5.39746963e-03  5.38763696e-03 -6.86450266e-03\n",
      "  5.35205155e-03  7.14406199e-03  1.18231774e-03 -9.50416267e-03\n",
      "  7.15270169e-03  7.08137745e-03 -7.63989136e-03 -1.32585280e-02\n",
      "  2.75295513e-03  8.85784018e-03 -8.20178277e-03  5.36294228e-03\n",
      " -8.39735092e-03  1.16298172e-02 -3.37537791e-03  9.52155539e-03\n",
      " -2.71557122e-03 -1.94318251e-02 -7.70312100e-03 -7.31789432e-03\n",
      " -5.51271245e-03 -3.42233921e-03 -1.57582055e-02 -5.52300771e-03\n",
      " -6.07072764e-04 -9.04619777e-04 -1.82210599e-02 -7.66984632e-04\n",
      " -7.40983572e-03  6.23501033e-03  3.33955404e-03 -1.07305006e-02\n",
      " -5.48406364e-03 -1.37730765e-04 -5.41531706e-03  1.01602351e-02\n",
      "  3.37669672e-03  2.13429071e-02  6.00438803e-03  1.74126682e-02\n",
      "  4.65443240e-03  9.25457512e-03  3.28175113e-03  6.53830627e-03\n",
      " -1.52217995e-02  1.03803012e-02 -1.17520367e-02 -5.73343952e-03\n",
      " -1.40120937e-02  3.28190906e-03 -1.25382607e-02 -1.97345321e-03\n",
      "  3.00141387e-03 -1.59139870e-02 -1.27636568e-03  3.48790724e-03\n",
      " -9.61787877e-03 -3.44259043e-03 -5.74527748e-03 -3.92802317e-03\n",
      "  5.46124833e-03  6.32282382e-03  2.83802624e-02  7.94445170e-03\n",
      " -1.56638629e-02  5.98031391e-03 -8.32699537e-03 -7.20328833e-04\n",
      " -9.05291432e-03 -2.66732590e-03 -9.42125596e-03 -1.31947695e-02\n",
      "  2.03967905e-04 -1.68286465e-03  2.59256859e-03 -3.90878100e-03\n",
      " -1.07058693e-02  1.05388867e-03 -3.24052796e-03  1.10489963e-02\n",
      "  8.96038763e-03  8.55887426e-04 -1.00041980e-02 -5.84948336e-03\n",
      "  1.34416120e-02  5.11638622e-03 -1.88171932e-03  7.62814261e-03\n",
      " -1.50518046e-02 -4.60028894e-03  7.00588217e-03 -7.90783020e-03\n",
      " -1.17673569e-02 -3.53812189e-03 -1.04976419e-02  7.24349107e-03\n",
      "  9.16437602e-03 -1.93350433e-02  1.31199092e-03  1.90251964e-02\n",
      "  1.89609969e-02  1.50127925e-02  1.26036605e-02 -1.33055975e-02\n",
      "  3.94637714e-03  1.18815461e-03  1.83373026e-03 -3.37496878e-03\n",
      "  2.10041604e-03  1.08528224e-02 -3.70079256e-03 -4.15614167e-03\n",
      "  1.25063518e-02  6.61965025e-03  1.37648525e-02 -6.13327156e-03\n",
      "  3.53439201e-04  1.07545438e-04  2.24284380e-03  8.36000686e-03\n",
      " -1.44764875e-02 -1.10231267e-03 -6.73814116e-03 -1.43434879e-02\n",
      " -2.34103875e-03  2.83581427e-03  7.70449176e-03 -1.36089476e-02\n",
      " -8.59198095e-03  5.02948242e-03  1.12039154e-02 -8.94848738e-03\n",
      " -1.34149458e-03 -3.10824784e-03  3.22812978e-03  5.83223167e-03\n",
      "  4.84550405e-04 -7.11268386e-04 -9.59690691e-04 -1.19326519e-02\n",
      "  5.03504268e-03  4.53636018e-03 -1.49035863e-02  1.62258750e-02\n",
      "  9.05407333e-03  1.26438110e-02  1.19818853e-02  2.96521818e-03\n",
      "  5.21811146e-03  1.65327982e-02 -3.15943604e-03 -1.04460540e-02\n",
      "  4.41051994e-03 -1.20651079e-02 -8.95319562e-03 -3.15350801e-03\n",
      " -6.25802404e-03 -5.01282158e-03  2.82113967e-03 -3.49672261e-05\n",
      "  3.77794251e-03 -6.92596880e-03  8.46838916e-03  2.74951627e-03\n",
      "  1.45107353e-02  1.03849153e-02 -9.23600520e-03  6.87102626e-03\n",
      "  6.11500682e-03 -1.10264085e-02 -2.27211080e-03  1.00946106e-02\n",
      " -3.33155410e-03 -2.75715746e-03 -9.77531086e-03  1.08307355e-03]\n"
     ]
    }
   ],
   "source": [
    "z = np.dot(x-test_net.biases[0][:,0], np.linalg.pinv(test_net.weights[0]).transpose())\n",
    "print(z)"
   ]
  },
  {
   "cell_type": "code",
   "execution_count": 56,
   "metadata": {},
   "outputs": [
    {
     "name": "stdout",
     "output_type": "stream",
     "text": [
      "(784,)\n"
     ]
    },
    {
     "data": {
      "image/png": "[encoded data removed]",
      "text/plain": [
       "<Figure size 432x288 with 1 Axes>"
      ]
     },
     "metadata": {
      "needs_background": "light"
     },
     "output_type": "display_data"
    }
   ],
   "source": [
    "import matplotlib.pyplot as plt\n",
    "print(z.shape)\n",
    "img = z.reshape(28,28)\n",
    "plt.imshow(img, interpolation='nearest')\n",
    "plt.show()"
   ]
  },
  {
   "cell_type": "code",
   "execution_count": 60,
   "metadata": {},
   "outputs": [
    {
     "ename": "ValueError",
     "evalue": "shapes (30,784) and (10,30) not aligned: 784 (dim 1) != 10 (dim 0)",
     "output_type": "error",
     "traceback": [
      "\u001b[0;31m---------------------------------------------------------------------------\u001b[0m",
      "\u001b[0;31mValueError\u001b[0m                                Traceback (most recent call last)",
      "\u001b[0;32m<ipython-input-60-bf7bd1cb9d58>\u001b[0m in \u001b[0;36m<module>\u001b[0;34m\u001b[0m\n\u001b[0;32m----> 1\u001b[0;31m \u001b[0mtest_net\u001b[0m\u001b[0;34m.\u001b[0m\u001b[0mfeedforward\u001b[0m\u001b[0;34m(\u001b[0m\u001b[0mtest_net\u001b[0m\u001b[0;34m.\u001b[0m\u001b[0mfeedforward\u001b[0m\u001b[0;34m(\u001b[0m\u001b[0mz\u001b[0m\u001b[0;34m)\u001b[0m\u001b[0;34m)\u001b[0m\u001b[0;34m\u001b[0m\u001b[0;34m\u001b[0m\u001b[0m\n\u001b[0m",
      "\u001b[0;32m~/work/neuralrules-mnist/networksteep.py\u001b[0m in \u001b[0;36mfeedforward\u001b[0;34m(self, a)\u001b[0m\n\u001b[1;32m     45\u001b[0m         \u001b[0;34m\"\"\"Return the output of the network if ``a`` is input.\"\"\"\u001b[0m\u001b[0;34m\u001b[0m\u001b[0;34m\u001b[0m\u001b[0m\n\u001b[1;32m     46\u001b[0m         \u001b[0;32mfor\u001b[0m \u001b[0mb\u001b[0m\u001b[0;34m,\u001b[0m \u001b[0mw\u001b[0m \u001b[0;32min\u001b[0m \u001b[0mzip\u001b[0m\u001b[0;34m(\u001b[0m\u001b[0mself\u001b[0m\u001b[0;34m.\u001b[0m\u001b[0mbiases\u001b[0m\u001b[0;34m,\u001b[0m \u001b[0mself\u001b[0m\u001b[0;34m.\u001b[0m\u001b[0mweights\u001b[0m\u001b[0;34m)\u001b[0m\u001b[0;34m:\u001b[0m\u001b[0;34m\u001b[0m\u001b[0;34m\u001b[0m\u001b[0m\n\u001b[0;32m---> 47\u001b[0;31m             \u001b[0ma\u001b[0m \u001b[0;34m=\u001b[0m \u001b[0msigmoid\u001b[0m\u001b[0;34m(\u001b[0m\u001b[0mnp\u001b[0m\u001b[0;34m.\u001b[0m\u001b[0mdot\u001b[0m\u001b[0;34m(\u001b[0m\u001b[0mw\u001b[0m\u001b[0;34m,\u001b[0m \u001b[0ma\u001b[0m\u001b[0;34m)\u001b[0m\u001b[0;34m+\u001b[0m\u001b[0mb\u001b[0m\u001b[0;34m,\u001b[0m \u001b[0mself\u001b[0m\u001b[0;34m.\u001b[0m\u001b[0msteepener\u001b[0m\u001b[0;34m)\u001b[0m\u001b[0;34m\u001b[0m\u001b[0;34m\u001b[0m\u001b[0m\n\u001b[0m\u001b[1;32m     48\u001b[0m         \u001b[0;32mreturn\u001b[0m \u001b[0ma\u001b[0m\u001b[0;34m\u001b[0m\u001b[0;34m\u001b[0m\u001b[0m\n\u001b[1;32m     49\u001b[0m \u001b[0;34m\u001b[0m\u001b[0m\n",
      "\u001b[0;31mValueError\u001b[0m: shapes (30,784) and (10,30) not aligned: 784 (dim 1) != 10 (dim 0)"
     ]
    }
   ],
   "source": [
    "test_net.evaluate()"
   ]
  },
  {
   "cell_type": "code",
   "execution_count": null,
   "metadata": {},
   "outputs": [],
   "source": [
    "FUCK"
   ]
  }
 ],
 "metadata": {
  "kernelspec": {
   "display_name": "Python 3",
   "language": "python",
   "name": "python3"
  },
  "language_info": {
   "codemirror_mode": {
    "name": "ipython",
    "version": 3
   },
   "file_extension": ".py",
   "mimetype": "text/x-python",
   "name": "python",
   "nbconvert_exporter": "python",
   "pygments_lexer": "ipython3",
   "version": "3.7.3"
  }
 },
 "nbformat": 4,
 "nbformat_minor": 4
}
