{
 "cells": [
  {
   "cell_type": "code",
   "execution_count": 1,
   "metadata": {},
   "outputs": [],
   "source": [
    "import pickle\n",
    "test_data = pickle.load(open(\"./Saved_Objects/diabetes/diabetes_test.p\", \"rb\"))\n",
    "training_data = pickle.load(open(\"./Saved_Objects/diabetes/diabetes_train.p\", \"rb\"))"
   ]
  },
  {
   "cell_type": "code",
   "execution_count": null,
   "metadata": {},
   "outputs": [],
   "source": []
  },
  {
   "cell_type": "code",
   "execution_count": 2,
   "metadata": {},
   "outputs": [
    {
     "name": "stdout",
     "output_type": "stream",
     "text": [
      "Epoch 0 : 7569 / 14901\n",
      "Epoch 1 : 7855 / 14901\n",
      "Epoch 2 : 7949 / 14901\n",
      "Epoch 3 : 7958 / 14901\n",
      "Epoch 4 : 8148 / 14901\n",
      "Epoch 5 : 8104 / 14901\n",
      "Epoch 6 : 8231 / 14901\n",
      "Epoch 7 : 8307 / 14901\n",
      "Epoch 8 : 8331 / 14901\n",
      "Epoch 9 : 8292 / 14901\n",
      "Epoch 10 : 8242 / 14901\n",
      "Epoch 11 : 7986 / 14901\n",
      "Epoch 12 : 8260 / 14901\n",
      "Epoch 13 : 8357 / 14901\n",
      "Epoch 14 : 8434 / 14901\n",
      "Epoch 15 : 8326 / 14901\n",
      "Epoch 16 : 8435 / 14901\n",
      "Epoch 17 : 8387 / 14901\n",
      "Epoch 18 : 8333 / 14901\n",
      "Epoch 19 : 8243 / 14901\n",
      "Epoch 20 : 8408 / 14901\n",
      "Epoch 21 : 8425 / 14901\n",
      "Epoch 22 : 8334 / 14901\n",
      "Epoch 23 : 8425 / 14901\n",
      "Epoch 24 : 8363 / 14901\n",
      "Epoch 25 : 8420 / 14901\n",
      "Epoch 26 : 8433 / 14901\n",
      "Epoch 27 : 8450 / 14901\n",
      "Epoch 28 : 8431 / 14901\n",
      "Epoch 29 : 8419 / 14901\n"
     ]
    }
   ],
   "source": [
    "import network\n",
    "net = network.Network([67,15,5,3], return_vector=True) \n",
    "net.SGD(training_data, 30, 10, 1, test_data=test_data) #pretty low accuracy but does that matter?"
   ]
  },
  {
   "cell_type": "code",
   "execution_count": 3,
   "metadata": {},
   "outputs": [],
   "source": [
    "import pickle\n",
    "name =  \"./Saved_Objects/diabetes/simple_net.p\"\n",
    "pickle.dump( net, open( name, \"wb\" ) )"
   ]
  },
  {
   "cell_type": "markdown",
   "metadata": {},
   "source": [
    "## Checkpoint 1"
   ]
  },
  {
   "cell_type": "code",
   "execution_count": 1,
   "metadata": {},
   "outputs": [],
   "source": [
    "import numpy as np\n",
    "import pickle\n",
    "import prune\n",
    "name =  \"./Saved_Objects/diabetes/simple_net.p\"\n",
    "simple_net = pickle.load( open( name, \"rb\" ) )"
   ]
  },
  {
   "cell_type": "code",
   "execution_count": 2,
   "metadata": {},
   "outputs": [],
   "source": [
    "test_data = pickle.load(open(\"./Saved_Objects/diabetes/diabetes_test.p\", \"rb\"))\n",
    "training_data = pickle.load(open(\"./Saved_Objects/diabetes/diabetes_train.p\", \"rb\"))"
   ]
  },
  {
   "cell_type": "code",
   "execution_count": 3,
   "metadata": {},
   "outputs": [
    {
     "name": "stdout",
     "output_type": "stream",
     "text": [
      "(13, 67)\n",
      "(3, 13)\n"
     ]
    }
   ],
   "source": [
    "print(simple_net.weights[0].shape)\n",
    "print(simple_net.weights[1].shape)\n",
    "#total weights = 12*67 + 3*12 = 804 + 36"
   ]
  },
  {
   "cell_type": "code",
   "execution_count": 4,
   "metadata": {},
   "outputs": [
    {
     "name": "stdout",
     "output_type": "stream",
     "text": [
      "[67, 13, 3] [67, 13, 3]\n",
      "8262 / 14901  without prune\n",
      "8262 / 14901  around region ± 0.01 , sparsity =  0.6593406593406593 %\n",
      "8262 / 14901  around region ± 0.02 , sparsity =  1.3186813186813187 %\n",
      "8265 / 14901  around region ± 0.04 , sparsity =  2.4175824175824174 %\n",
      "8263 / 14901  around region ± 0.08 , sparsity =  4.945054945054945 %\n",
      "8263 / 14901  around region ± 0.16 , sparsity =  10.219780219780219 %\n",
      "8263 / 14901  around region ± 0.32 , sparsity =  19.67032967032967 %\n",
      "8168 / 14901  around region ± 0.64 , sparsity =  38.79120879120879 %\n",
      "7868 / 14901  around region ± 1.28 , sparsity =  68.02197802197803 %\n",
      "7914 / 14901  around region ± 2.56 , sparsity =  92.3076923076923 %\n",
      "7914 / 14901  around region ± 5.12 , sparsity =  97.91208791208791 %\n",
      "7914 / 14901  around region ± 10.24 , sparsity =  99.34065934065934 %\n",
      "7914 / 14901  around region ± 20.48 , sparsity =  99.78021978021978 %\n",
      "warning you've reached 100% sparsity\n",
      "Epoch 0 complete\n",
      "Epoch 1 complete\n",
      "Epoch with pruned weights around 20.48: 7914 / 14901\n",
      "sparsity:  910  /  910  =  100.0 %\n"
     ]
    }
   ],
   "source": [
    "pruned_net = prune.prune_retrain(simple_net,0.01, list(training_data), list(test_data), threshold=0.04, verbose=True)"
   ]
  },
  {
   "cell_type": "code",
   "execution_count": null,
   "metadata": {},
   "outputs": [],
   "source": [
    "#Find the right pruning threshold"
   ]
  },
  {
   "cell_type": "code",
   "execution_count": null,
   "metadata": {},
   "outputs": [],
   "source": [
    "pickle.dump( pruned_net_conv, open( \"./Saved_Objects/diabetes/pruned_conventionally.p\", \"wb\" ) )"
   ]
  },
  {
   "cell_type": "markdown",
   "metadata": {},
   "source": [
    "## Checkpoint 2"
   ]
  },
  {
   "cell_type": "code",
   "execution_count": null,
   "metadata": {},
   "outputs": [],
   "source": [
    "import numpy as np\n",
    "import pickle\n",
    "pruned_net = pickle.load( open( \"./Saved_Objects/diabetes/pruned_conventionally.p\", \"rb\" ) )"
   ]
  },
  {
   "cell_type": "code",
   "execution_count": null,
   "metadata": {},
   "outputs": [],
   "source": [
    "import networksteep\n",
    "rule_net = networksteep.Network([784,30,10], return_vector=True)\n",
    "rule_net.weights = pruned_net.weights\n",
    "rule_net.biases = pruned_net.biases\n",
    "\n",
    "test_data = pickle.load(open(\"./Saved_Objects/diabetes/diabetes_test.p\", \"rb\"))\n",
    "training_data = pickle.load(open(\"./Saved_Objects/diabetes/diabetes_train.p\", \"rb\"))\n",
    "\n",
    "rule_net.SGD(training_data,30,10,3.0,test_data=test_data)"
   ]
  }
 ],
 "metadata": {
  "kernelspec": {
   "display_name": "Python 3",
   "language": "python",
   "name": "python3"
  },
  "language_info": {
   "codemirror_mode": {
    "name": "ipython",
    "version": 3
   },
   "file_extension": ".py",
   "mimetype": "text/x-python",
   "name": "python",
   "nbconvert_exporter": "python",
   "pygments_lexer": "ipython3",
   "version": "3.7.3"
  }
 },
 "nbformat": 4,
 "nbformat_minor": 4
}
