{
 "cells": [
  {
   "cell_type": "code",
   "execution_count": 3,
   "metadata": {},
   "outputs": [
    {
     "name": "stderr",
     "output_type": "stream",
     "text": [
      "Using TensorFlow backend.\n"
     ]
    }
   ],
   "source": [
    "from keras.layers import Activation\n",
    "from keras import backend as K\n",
    "from keras.utils.generic_utils import get_custom_objects\n",
    "from keras import backend as K"
   ]
  },
  {
   "cell_type": "code",
   "execution_count": 36,
   "metadata": {},
   "outputs": [],
   "source": [
    "from keras.datasets import mnist\n",
    "import keras\n",
    "from keras.layers import Dense, Input # Dense layers are \"fully connected\" layers\n",
    "from keras.models import Sequential, Model\n",
    "import math\n",
    "import matplotlib.pyplot as plt\n",
    "import numpy as np\n",
    "from keras.callbacks import LambdaCallback"
   ]
  },
  {
   "cell_type": "code",
   "execution_count": 5,
   "metadata": {},
   "outputs": [],
   "source": [
    "(x_train, y_train), (x_test, y_test) = mnist.load_data()"
   ]
  },
  {
   "cell_type": "code",
   "execution_count": 6,
   "metadata": {},
   "outputs": [],
   "source": [
    "image_vector_size = 28*28\n",
    "image_size = 784\n",
    "x_train = x_train.reshape(x_train.shape[0], image_vector_size)\n",
    "x_test = x_test.reshape(x_test.shape[0], image_vector_size)\n",
    "num_classes = 10\n",
    "y_train = keras.utils.to_categorical(y_train, num_classes)\n",
    "y_test = keras.utils.to_categorical(y_test, num_classes)"
   ]
  },
  {
   "cell_type": "code",
   "execution_count": 47,
   "metadata": {},
   "outputs": [],
   "source": [
    "def steep_sigmoid(x):\n",
    "    return K.sigmoid(20 * x)"
   ]
  },
  {
   "cell_type": "code",
   "execution_count": 60,
   "metadata": {},
   "outputs": [],
   "source": [
    "def error_data():\n",
    "    acc = []\n",
    "    loss_lst = []\n",
    "    \n",
    "    inputs = Input(shape=(784,))\n",
    "    layer1 = Dense(32, activation='relu')(inputs)\n",
    "    get_custom_objects().update({'steep_sigmoid': Activation(steep_sigmoid)})\n",
    "    layer2 = Dense(32, activation='steep_sigmoid')(layer1)\n",
    "    predictions = Dense(10, activation='softmax')(layer2)\n",
    "    model = Model(inputs=inputs, outputs=predictions)\n",
    "    print(layer2)\n",
    "    \"\"\"model = Sequential()\n",
    "    model.add(Dense(units=12, activation='sigmoid', input_shape=(image_size,)))\n",
    "    model.add(Dense(units=num_classes, activation='softmax'))\"\"\"\n",
    "    #print_weights = LambdaCallback(on_epoch_end=lambda epoch, logs: print(model.layers[1].get_weights()))\n",
    "    model.compile(optimizer=\"adam\", loss=\"categorical_crossentropy\", metrics=['accuracy'])\n",
    "    history = model.fit(x_train, y_train, batch_size=128, epochs=50, verbose=False, validation_split=.1)#, callbacks = [print_weights])\n",
    "    loss, accuracy  = model.evaluate(x_test, y_test, verbose=False)\n",
    "    loss_lst.append(loss)\n",
    "    acc.append(accuracy)\n",
    "    return (acc, loss_lst)"
   ]
  },
  {
   "cell_type": "code",
   "execution_count": 50,
   "metadata": {},
   "outputs": [],
   "source": [
    "def custom_loss(layer):\n",
    "    print(layer)\n",
    "    weights = layer.weights\n",
    "    return sum(weights)\n",
    "    "
   ]
  },
  {
   "cell_type": "code",
   "execution_count": 61,
   "metadata": {},
   "outputs": [
    {
     "name": "stdout",
     "output_type": "stream",
     "text": [
      "Tensor(\"dense_61/activation_7/Sigmoid:0\", shape=(?, 32), dtype=float32)\n",
      "[0.6348000168800354]\n"
     ]
    }
   ],
   "source": [
    "accuracy, loss_vals = error_data()\n",
    "print(accuracy)"
   ]
  },
  {
   "cell_type": "code",
   "execution_count": 77,
   "metadata": {},
   "outputs": [
    {
     "name": "stdout",
     "output_type": "stream",
     "text": [
      "0.5023000240325928\n"
     ]
    },
    {
     "data": {
      "image/png": "[encoded data removed]",
      "text/plain": [
       "<Figure size 432x288 with 1 Axes>"
      ]
     },
     "metadata": {
      "needs_background": "light"
     },
     "output_type": "display_data"
    }
   ],
   "source": [
    "x_vals = list(range(1, 100))\n",
    "print(accuracy[98])\n",
    "#print(model.layers())\n",
    "#for k in x_vals:\n",
    "    \n",
    "    #print(\"For steepness\", x_vals[k], \"the accuracy is\", accuracy[k], \"and the loss is\", loss_vals[k])\n",
    "\n",
    "plt.scatter(x_vals, accuracy)\n",
    "plt.scatter(x_vals, loss_vals)\n",
    "plt.legend([\"accuracy\", \"loss\"])\n",
    "plt.show()"
   ]
  },
  {
   "cell_type": "markdown",
   "metadata": {},
   "source": [
    "Steepen the activation function for sigmoid, and see the effect on accuracy   \n",
    "gradient descent learning vs stochastic  \n",
    "might need to add more rules  \n",
    "Antecedents  \n",
    "weight matrix sparse  \n",
    "save checkpoints and then start from there next time\n",
    "Automatic differentiation and gradient tape  \n",
    "Make error based on how sparse the weight matrix is  \n",
    "We don't want to train when it's already steep  \n",
    "Training sparse tensorflow models with keras"
   ]
  }
 ],
 "metadata": {
  "kernelspec": {
   "display_name": "Python 3",
   "language": "python",
   "name": "python3"
  },
  "language_info": {
   "codemirror_mode": {
    "name": "ipython",
    "version": 3
   },
   "file_extension": ".py",
   "mimetype": "text/x-python",
   "name": "python",
   "nbconvert_exporter": "python",
   "pygments_lexer": "ipython3",
   "version": "3.7.3"
  }
 },
 "nbformat": 4,
 "nbformat_minor": 2
}
