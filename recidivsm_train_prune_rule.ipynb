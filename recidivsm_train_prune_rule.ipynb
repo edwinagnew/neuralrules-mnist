{
 "cells": [
  {
   "cell_type": "code",
   "execution_count": 1,
   "metadata": {},
   "outputs": [],
   "source": [
    "import pickle\n",
    "train = pickle.load(open(\"Saved_Objects/recidivism/compas_train.p\", \"rb\"))\n",
    "test = pickle.load(open(\"Saved_Objects/recidivism/compas_test.p\", \"rb\"))"
   ]
  },
  {
   "cell_type": "code",
   "execution_count": 2,
   "metadata": {},
   "outputs": [
    {
     "name": "stdout",
     "output_type": "stream",
     "text": [
      "Epoch 0 : 586 / 902\n",
      "Epoch 1 : 586 / 902\n",
      "Epoch 2 : 586 / 902\n",
      "Epoch 3 : 586 / 902\n",
      "Epoch 4 : 586 / 902\n",
      "Epoch 5 : 586 / 902\n",
      "Epoch 6 : 586 / 902\n",
      "Epoch 7 : 586 / 902\n",
      "Epoch 8 : 586 / 902\n",
      "Epoch 9 : 586 / 902\n",
      "Epoch 10 : 586 / 902\n",
      "Epoch 11 : 586 / 902\n",
      "Epoch 12 : 585 / 902\n",
      "Epoch 13 : 585 / 902\n",
      "Epoch 14 : 586 / 902\n",
      "Epoch 15 : 584 / 902\n",
      "Epoch 16 : 587 / 902\n",
      "Epoch 17 : 585 / 902\n",
      "Epoch 18 : 584 / 902\n",
      "Epoch 19 : 591 / 902\n"
     ]
    }
   ],
   "source": [
    "import numpy as np\n",
    "import network\n",
    "\n",
    "net = network.Network([11, 9, 7, 5, 1], return_vector = True)\n",
    "net.SGD(train, 20, 10, 0.1, test_data=test)#is probably predicting yes for everyone (there are exactly 705 yes')"
   ]
  },
  {
   "cell_type": "code",
   "execution_count": null,
   "metadata": {},
   "outputs": [],
   "source": [
    "import pickle\n",
    "import numpy as np\n",
    "import network\n",
    "for i in range(2,11):\n",
    "    for e in [0.05,0.1,0.3,0.5,0.7,1,1.5]:\n",
    "        train = pickle.load(open(\"Saved_Objects/recidivism/compas_train.p\", \"rb\"))\n",
    "        test = pickle.load(open(\"Saved_Objects/recidivism/compas_test.p\", \"rb\"))\n",
    "        net = network.Network([11,i, 1], return_vector = True)\n",
    "        net.SGD(train, 20, 10, e)\n",
    "        print(i, e, net.evaluate(test))"
   ]
  },
  {
   "cell_type": "code",
   "execution_count": 1,
   "metadata": {},
   "outputs": [],
   "source": [
    "import pickle\n",
    "train = pickle.load(open(\"Saved_Objects/recidivism/recidivism_train.p\", \"rb\"))\n",
    "test = pickle.load(open(\"Saved_Objects/recidivism/recidivism_test.p\", \"rb\"))"
   ]
  },
  {
   "cell_type": "code",
   "execution_count": 2,
   "metadata": {},
   "outputs": [
    {
     "name": "stderr",
     "output_type": "stream",
     "text": [
      "/home/jovyan/work/neuralrules-mnist/network.py:183: RuntimeWarning: overflow encountered in exp\n",
      "  return 1.0/(1.0+np.exp(-z))\n"
     ]
    },
    {
     "name": "stdout",
     "output_type": "stream",
     "text": [
      "Epoch 0 : 627 / 926\n",
      "Epoch 1 : 689 / 926\n",
      "Epoch 2 : 635 / 926\n",
      "Epoch 3 : 651 / 926\n",
      "Epoch 4 : 650 / 926\n",
      "Epoch 5 : 686 / 926\n",
      "Epoch 6 : 649 / 926\n",
      "Epoch 7 : 690 / 926\n",
      "Epoch 8 : 668 / 926\n",
      "Epoch 9 : 654 / 926\n",
      "Epoch 10 : 694 / 926\n",
      "Epoch 11 : 689 / 926\n",
      "Epoch 12 : 620 / 926\n",
      "Epoch 13 : 701 / 926\n",
      "Epoch 14 : 563 / 926\n",
      "Epoch 15 : 684 / 926\n",
      "Epoch 16 : 690 / 926\n",
      "Epoch 17 : 694 / 926\n",
      "Epoch 18 : 694 / 926\n",
      "Epoch 19 : 684 / 926\n",
      "Epoch 20 : 669 / 926\n",
      "Epoch 21 : 654 / 926\n",
      "Epoch 22 : 646 / 926\n",
      "Epoch 23 : 281 / 926\n",
      "Epoch 24 : 694 / 926\n",
      "Epoch 25 : 636 / 926\n",
      "Epoch 26 : 694 / 926\n",
      "Epoch 27 : 612 / 926\n",
      "Epoch 28 : 705 / 926\n",
      "Epoch 29 : 692 / 926\n"
     ]
    }
   ],
   "source": [
    "import network\n",
    "\n",
    "net = network.Network([128, 40, 15, 1], return_vector=True, threshold = 0.7)\n",
    "net.SGD(train, 30, 10, 2.0, test_data=test)"
   ]
  },
  {
   "cell_type": "code",
   "execution_count": null,
   "metadata": {},
   "outputs": [],
   "source": []
  }
 ],
 "metadata": {
  "kernelspec": {
   "display_name": "Python 3",
   "language": "python",
   "name": "python3"
  },
  "language_info": {
   "codemirror_mode": {
    "name": "ipython",
    "version": 3
   },
   "file_extension": ".py",
   "mimetype": "text/x-python",
   "name": "python",
   "nbconvert_exporter": "python",
   "pygments_lexer": "ipython3",
   "version": "3.7.3"
  }
 },
 "nbformat": 4,
 "nbformat_minor": 4
}
