{
 "cells": [
  {
   "cell_type": "code",
   "execution_count": 1,
   "metadata": {},
   "outputs": [],
   "source": [
    "import pickle\n",
    "train = pickle.load(open(\"Saved_Objects/recidivism/compas_train.p\", \"rb\"))\n",
    "test = pickle.load(open(\"Saved_Objects/recidivism/compas_test.p\", \"rb\"))"
   ]
  },
  {
   "cell_type": "code",
   "execution_count": 2,
   "metadata": {},
   "outputs": [
    {
     "data": {
      "text/plain": [
       "584"
      ]
     },
     "execution_count": 2,
     "metadata": {},
     "output_type": "execute_result"
    }
   ],
   "source": [
    "import numpy as np\n",
    "import network\n",
    "\n",
    "net = network.Network([11, 6, 1], return_vector = True)\n",
    "net.SGD(train, 20, 10, 0.1)#is probably predicting yes for everyone (there are exactly 705 yes')\n",
    "net.evaluate(test)"
   ]
  },
  {
   "cell_type": "code",
   "execution_count": 1,
   "metadata": {},
   "outputs": [
    {
     "name": "stdout",
     "output_type": "stream",
     "text": [
      "2 0.05 588\n",
      "2 0.1 585\n",
      "2 0.3 582\n",
      "2 0.5 587\n",
      "2 0.7 585\n",
      "2 1 588\n",
      "2 1.5 588\n",
      "3 0.05 579\n",
      "3 0.1 591\n",
      "3 0.3 589\n",
      "3 0.5 587\n",
      "3 0.7 590\n",
      "3 1 578\n",
      "3 1.5 586\n",
      "4 0.05 585\n",
      "4 0.1 588\n",
      "4 0.3 591\n",
      "4 0.5 584\n",
      "4 0.7 587\n",
      "4 1 590\n",
      "4 1.5 579\n",
      "5 0.05 583\n",
      "5 0.1 595\n",
      "5 0.3 572\n",
      "5 0.5 580\n",
      "5 0.7 587\n",
      "5 1 583\n",
      "5 1.5 584\n",
      "6 0.05 588\n",
      "6 0.1 584\n",
      "6 0.3 588\n",
      "6 0.5 587\n",
      "6 0.7 587\n",
      "6 1 592\n",
      "6 1.5 584\n",
      "7 0.05 595\n",
      "7 0.1 579\n",
      "7 0.3 589\n",
      "7 0.5 588\n",
      "7 0.7 591\n",
      "7 1 588\n",
      "7 1.5 567\n",
      "8 0.05 578\n",
      "8 0.1 583\n",
      "8 0.3 585\n",
      "10 0.3 583\n",
      "10 0.5 584\n",
      "10 0.7 587\n",
      "10 1 581\n",
      "10 1.5 583\n"
     ]
    }
   ],
   "source": [
    "import pickle\n",
    "import numpy as np\n",
    "import network\n",
    "for i in range(2,11):\n",
    "    for e in [0.05,0.1,0.3,0.5,0.7,1,1.5]:\n",
    "        train = pickle.load(open(\"Saved_Objects/recidivism/compas_train.p\", \"rb\"))\n",
    "        test = pickle.load(open(\"Saved_Objects/recidivism/compas_test.p\", \"rb\"))\n",
    "        net = network.Network([11,i, 1], return_vector = True)\n",
    "        net.SGD(train, 20, 10, e)\n",
    "        print(i, e, net.evaluate(test))"
   ]
  },
  {
   "cell_type": "code",
   "execution_count": null,
   "metadata": {},
   "outputs": [],
   "source": [
    "import mnist_loader\n",
    "training_data, validation_data, test_data = mnist_loader.load_data_wrapper()\n",
    "training_data = list(training_data)\n",
    "\n",
    "\n",
    "import network\n",
    "simple_net = network.Network([784,30,10])\n",
    "simple_net.SGD(training_data, 1, 10, 3.0, test_data=test_data)"
   ]
  },
  {
   "cell_type": "code",
   "execution_count": null,
   "metadata": {},
   "outputs": [],
   "source": []
  }
 ],
 "metadata": {
  "kernelspec": {
   "display_name": "Python 3",
   "language": "python",
   "name": "python3"
  },
  "language_info": {
   "codemirror_mode": {
    "name": "ipython",
    "version": 3
   },
   "file_extension": ".py",
   "mimetype": "text/x-python",
   "name": "python",
   "nbconvert_exporter": "python",
   "pygments_lexer": "ipython3",
   "version": "3.7.3"
  }
 },
 "nbformat": 4,
 "nbformat_minor": 4
}
