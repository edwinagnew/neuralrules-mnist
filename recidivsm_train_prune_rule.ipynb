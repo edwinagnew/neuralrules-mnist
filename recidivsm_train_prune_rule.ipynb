{
 "cells": [
  {
   "cell_type": "code",
   "execution_count": 1,
   "metadata": {},
   "outputs": [],
   "source": [
    "import pickle\n",
    "train = pickle.load(open(\"Saved_Objects/recidivism/recidivism_train.p\", \"rb\"))\n",
    "test = pickle.load(open(\"Saved_Objects/recidivism/recidivism_test.p\", \"rb\"))"
   ]
  },
  {
   "cell_type": "code",
   "execution_count": 2,
   "metadata": {},
   "outputs": [
    {
     "name": "stderr",
     "output_type": "stream",
     "text": [
      "/home/jovyan/work/neuralrules-mnist/network.py:183: RuntimeWarning: overflow encountered in exp\n",
      "  return 1.0/(1.0+np.exp(-z))\n"
     ]
    },
    {
     "name": "stdout",
     "output_type": "stream",
     "text": [
      "Epoch 0 : 705 / 926\n",
      "Epoch 1 : 705 / 926\n",
      "Epoch 2 : 687 / 926\n",
      "Epoch 3 : 705 / 926\n",
      "Epoch 4 : 705 / 926\n",
      "Epoch 5 : 705 / 926\n",
      "Epoch 6 : 705 / 926\n",
      "Epoch 7 : 705 / 926\n",
      "Epoch 8 : 705 / 926\n",
      "Epoch 9 : 686 / 926\n",
      "Epoch 10 : 705 / 926\n",
      "Epoch 11 : 244 / 926\n",
      "Epoch 12 : 686 / 926\n",
      "Epoch 13 : 685 / 926\n",
      "Epoch 14 : 705 / 926\n",
      "Epoch 15 : 705 / 926\n",
      "Epoch 16 : 705 / 926\n",
      "Epoch 17 : 684 / 926\n",
      "Epoch 18 : 705 / 926\n",
      "Epoch 19 : 705 / 926\n"
     ]
    }
   ],
   "source": [
    "import numpy as np\n",
    "import network\n",
    "\n",
    "net = network.Network([128, 15, 1], return_vector = True, threshold=0.6)\n",
    "net.SGD(train, 20, 10, 1.5, test_data=test) #is probably predicting yes for everyone (there are exactly 705 yes')\n",
    "#Would adding 8's help?"
   ]
  },
  {
   "cell_type": "code",
   "execution_count": null,
   "metadata": {},
   "outputs": [],
   "source": [
    "import mnist_loader\n",
    "training_data, validation_data, test_data = mnist_loader.load_data_wrapper()\n",
    "training_data = list(training_data)\n",
    "\n",
    "\n",
    "import network\n",
    "simple_net = network.Network([784,30,10])\n",
    "simple_net.SGD(training_data, 1, 10, 3.0, test_data=test_data)"
   ]
  },
  {
   "cell_type": "code",
   "execution_count": null,
   "metadata": {},
   "outputs": [],
   "source": []
  }
 ],
 "metadata": {
  "kernelspec": {
   "display_name": "Python 3",
   "language": "python",
   "name": "python3"
  },
  "language_info": {
   "codemirror_mode": {
    "name": "ipython",
    "version": 3
   },
   "file_extension": ".py",
   "mimetype": "text/x-python",
   "name": "python",
   "nbconvert_exporter": "python",
   "pygments_lexer": "ipython3",
   "version": "3.7.3"
  }
 },
 "nbformat": 4,
 "nbformat_minor": 4
}
