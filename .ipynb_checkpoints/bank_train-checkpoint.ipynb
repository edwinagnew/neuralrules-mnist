{
 "cells": [
  {
   "cell_type": "code",
   "execution_count": 1,
   "metadata": {},
   "outputs": [],
   "source": [
    "import pickle\n",
    "\n",
    "train = pickle.load(open(\"Saved_Objects/bank_marketing/train.p\",\"rb\"))\n",
    "test = pickle.load(open(\"Saved_Objects/bank_marketing/test.p\",\"rb\"))\n",
    "train = list(train)"
   ]
  },
  {
   "cell_type": "code",
   "execution_count": 2,
   "metadata": {},
   "outputs": [
    {
     "name": "stdout",
     "output_type": "stream",
     "text": [
      "32950\n"
     ]
    },
    {
     "data": {
      "text/plain": [
       "20"
      ]
     },
     "execution_count": 2,
     "metadata": {},
     "output_type": "execute_result"
    }
   ],
   "source": [
    "print(len(train))\n",
    "len(train[0][0])"
   ]
  },
  {
   "cell_type": "code",
   "execution_count": 3,
   "metadata": {},
   "outputs": [],
   "source": [
    "#len(list(test))\n",
    "#936/8238"
   ]
  },
  {
   "cell_type": "code",
   "execution_count": 4,
   "metadata": {},
   "outputs": [
    {
     "name": "stderr",
     "output_type": "stream",
     "text": [
      "/home/jovyan/work/neuralrules-mnist/network.py:183: RuntimeWarning: overflow encountered in exp\n",
      "  return 1.0/(1.0+np.exp(-z))\n"
     ]
    },
    {
     "name": "stdout",
     "output_type": "stream",
     "text": [
      "Epoch 0 : 7302 / 8238\n",
      "Epoch 1 : 7302 / 8238\n",
      "Epoch 2 : 7302 / 8238\n",
      "Epoch 3 : 7302 / 8238\n",
      "Epoch 4 : 7302 / 8238\n",
      "Epoch 5 : 7302 / 8238\n",
      "Epoch 6 : 7302 / 8238\n",
      "Epoch 7 : 7302 / 8238\n",
      "Epoch 8 : 7302 / 8238\n",
      "Epoch 9 : 7302 / 8238\n",
      "Epoch 10 : 7302 / 8238\n",
      "Epoch 11 : 7302 / 8238\n",
      "Epoch 12 : 7302 / 8238\n",
      "Epoch 13 : 7302 / 8238\n",
      "Epoch 14 : 7302 / 8238\n",
      "Epoch 15 : 7302 / 8238\n",
      "Epoch 16 : 7302 / 8238\n",
      "Epoch 17 : 7302 / 8238\n",
      "Epoch 18 : 7302 / 8238\n",
      "Epoch 19 : 7302 / 8238\n",
      "Epoch 20 : 7302 / 8238\n",
      "Epoch 21 : 7302 / 8238\n",
      "Epoch 22 : 7302 / 8238\n",
      "Epoch 23 : 7302 / 8238\n",
      "Epoch 24 : 7302 / 8238\n",
      "Epoch 25 : 7302 / 8238\n",
      "Epoch 26 : 7302 / 8238\n",
      "Epoch 27 : 7302 / 8238\n",
      "Epoch 28 : 7302 / 8238\n",
      "Epoch 29 : 7302 / 8238\n"
     ]
    }
   ],
   "source": [
    "import network\n",
    "net = network.Network([20,5,1], return_vector=True, threshold=0.7)\n",
    "net.SGD(train, 30, 10, 0.5, test_data=test)"
   ]
  },
  {
   "cell_type": "code",
   "execution_count": null,
   "metadata": {},
   "outputs": [
    {
     "name": "stderr",
     "output_type": "stream",
     "text": [
      "/home/jovyan/work/neuralrules-mnist/network.py:183: RuntimeWarning: overflow encountered in exp\n",
      "  return 1.0/(1.0+np.exp(-z))\n"
     ]
    },
    {
     "name": "stdout",
     "output_type": "stream",
     "text": [
      "hidden:  3 eta: 0.05 thresh: 0.2 7300\n",
      "hidden:  3 eta: 0.05 thresh: 0.3 7302\n"
     ]
    }
   ],
   "source": [
    "import pickle\n",
    "import numpy as np\n",
    "import network\n",
    "for i in range(3,8):\n",
    "    for e in [0.05,0.1,0.3,0.5,0.7,1,1.5]:\n",
    "        for thresh in [0.2,0.3,0.4,0.5,0.6,0.7,0.8]:\n",
    "            train = pickle.load(open(\"Saved_Objects/bank_marketing/train.p\",\"rb\"))\n",
    "            test = pickle.load(open(\"Saved_Objects/bank_marketing/test.p\",\"rb\"))\n",
    "            net = network.Network([20,i, 1], return_vector = True, threshold = thresh)\n",
    "            net.SGD(train, 10, 10, e)\n",
    "            print(\"hidden: \", i, \"eta:\", e,\"thresh:\", thresh, net.evaluate(test))"
   ]
  },
  {
   "cell_type": "code",
   "execution_count": null,
   "metadata": {},
   "outputs": [],
   "source": []
  }
 ],
 "metadata": {
  "kernelspec": {
   "display_name": "Python 3",
   "language": "python",
   "name": "python3"
  },
  "language_info": {
   "codemirror_mode": {
    "name": "ipython",
    "version": 3
   },
   "file_extension": ".py",
   "mimetype": "text/x-python",
   "name": "python",
   "nbconvert_exporter": "python",
   "pygments_lexer": "ipython3",
   "version": "3.7.3"
  }
 },
 "nbformat": 4,
 "nbformat_minor": 4
}
