{
 "cells": [
  {
   "cell_type": "code",
   "execution_count": 1,
   "metadata": {},
   "outputs": [
    {
     "data": {
      "text/plain": [
       "3662"
      ]
     },
     "execution_count": 1,
     "metadata": {},
     "output_type": "execute_result"
    }
   ],
   "source": [
    "import pickle\n",
    "import numpy as np\n",
    "imgs = []\n",
    "labels = []\n",
    "key = {\"No_DR\": 0, \"Mild\": 1, \"Moderate\": 2, \"Severe\": 3, \"Proliferate_DR\": 4}\n",
    "for d in [\"Mild\", \"Moderate\", \"No_DR\", \"Proliferate_DR\", \"Severe\"]:\n",
    "    pick = pickle.load(open(\"Saved_Objects/retinopathy/retinopathy_greyscale_data_\" + d + \".p\", \"rb\"))\n",
    "    imgs += pick[0]\n",
    "    labels += pick[1]\n",
    "len(imgs)"
   ]
  },
  {
   "cell_type": "code",
   "execution_count": 2,
   "metadata": {},
   "outputs": [
    {
     "name": "stdout",
     "output_type": "stream",
     "text": [
      "3662\n"
     ]
    },
    {
     "data": {
      "text/plain": [
       "(12544, 1)"
      ]
     },
     "execution_count": 2,
     "metadata": {},
     "output_type": "execute_result"
    }
   ],
   "source": [
    "print(len(imgs))\n",
    "imgs[0].shape"
   ]
  },
  {
   "cell_type": "code",
   "execution_count": 3,
   "metadata": {},
   "outputs": [],
   "source": [
    "from sklearn.model_selection import train_test_split\n",
    "x_train ,x_test, y_train, y_test = train_test_split(imgs, labels, test_size=0.15)"
   ]
  },
  {
   "cell_type": "code",
   "execution_count": 4,
   "metadata": {},
   "outputs": [
    {
     "data": {
      "text/plain": [
       "[array([1., 0., 0., 0., 0.]),\n",
       " array([0., 0., 1., 0., 0.]),\n",
       " array([0., 0., 0., 0., 1.]),\n",
       " array([1., 0., 0., 0., 0.]),\n",
       " array([1., 0., 0., 0., 0.])]"
      ]
     },
     "execution_count": 4,
     "metadata": {},
     "output_type": "execute_result"
    }
   ],
   "source": [
    "for v in range(len(y_train)):\n",
    "    val = y_train[v]\n",
    "    x = np.zeros(5)\n",
    "    x[val] = 1\n",
    "    y_train[v] = x\n",
    "y_train[:5]"
   ]
  },
  {
   "cell_type": "code",
   "execution_count": 5,
   "metadata": {},
   "outputs": [],
   "source": [
    "train = zip(x_train, y_train)\n",
    "test = zip(x_test, y_test)\n",
    "pickle.dump((train, test), open(\"Saved_Objects/retinopathy/train_test_data.p\", \"wb\"))"
   ]
  },
  {
   "cell_type": "code",
   "execution_count": null,
   "metadata": {},
   "outputs": [],
   "source": []
  }
 ],
 "metadata": {
  "kernelspec": {
   "display_name": "Python 3",
   "language": "python",
   "name": "python3"
  },
  "language_info": {
   "codemirror_mode": {
    "name": "ipython",
    "version": 3
   },
   "file_extension": ".py",
   "mimetype": "text/x-python",
   "name": "python",
   "nbconvert_exporter": "python",
   "pygments_lexer": "ipython3",
   "version": "3.7.3"
  }
 },
 "nbformat": 4,
 "nbformat_minor": 4
}
