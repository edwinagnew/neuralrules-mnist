{
 "cells": [
  {
   "cell_type": "code",
   "execution_count": 1,
   "metadata": {},
   "outputs": [],
   "source": [
    "import pickle\n",
    "test_data = pickle.load(open(\"./Saved_Objects/diabetes/diabetes_test.p\", \"rb\"))\n",
    "training_data = pickle.load(open(\"./Saved_Objects/diabetes/diabetes_train.p\", \"rb\"))"
   ]
  },
  {
   "cell_type": "code",
   "execution_count": 2,
   "metadata": {},
   "outputs": [
    {
     "name": "stdout",
     "output_type": "stream",
     "text": [
      "Epoch 0 : 6943 / 14901\n",
      "Epoch 1 : 8027 / 14901\n",
      "Epoch 2 : 8148 / 14901\n",
      "Epoch 3 : 8012 / 14901\n",
      "Epoch 4 : 8123 / 14901\n",
      "Epoch 5 : 8325 / 14901\n",
      "Epoch 6 : 8247 / 14901\n",
      "Epoch 7 : 7672 / 14901\n",
      "Epoch 8 : 8360 / 14901\n",
      "Epoch 9 : 8338 / 14901\n",
      "Epoch 10 : 8336 / 14901\n",
      "Epoch 11 : 8332 / 14901\n",
      "Epoch 12 : 8357 / 14901\n",
      "Epoch 13 : 8004 / 14901\n",
      "Epoch 14 : 8367 / 14901\n",
      "Epoch 15 : 8296 / 14901\n",
      "Epoch 16 : 8437 / 14901\n",
      "Epoch 17 : 8278 / 14901\n",
      "Epoch 18 : 8384 / 14901\n",
      "Epoch 19 : 8380 / 14901\n",
      "Epoch 20 : 8452 / 14901\n",
      "Epoch 21 : 8440 / 14901\n",
      "Epoch 22 : 8490 / 14901\n",
      "Epoch 23 : 8319 / 14901\n",
      "Epoch 24 : 8427 / 14901\n",
      "Epoch 25 : 8416 / 14901\n",
      "Epoch 26 : 8472 / 14901\n",
      "Epoch 27 : 8432 / 14901\n",
      "Epoch 28 : 8435 / 14901\n",
      "Epoch 29 : 8260 / 14901\n"
     ]
    }
   ],
   "source": [
    "import network\n",
    "net = network.Network([67,12,3], return_vector=True) \n",
    "net.SGD(training_data, 30, 10, 1, test_data=test_data) #pretty low accuracy but does that matter?"
   ]
  },
  {
   "cell_type": "code",
   "execution_count": 3,
   "metadata": {},
   "outputs": [],
   "source": [
    "import pickle\n",
    "name =  \"./Saved_Objects/diabetes/simple_net.p\"\n",
    "pickle.dump( net, open( name, \"wb\" ) )"
   ]
  },
  {
   "cell_type": "markdown",
   "metadata": {},
   "source": [
    "## Checkpoint 1"
   ]
  },
  {
   "cell_type": "code",
   "execution_count": 1,
   "metadata": {},
   "outputs": [],
   "source": [
    "import numpy as np\n",
    "import pickle\n",
    "import prune\n",
    "name =  \"./Saved_Objects/diabetes/simple_net.p\"\n",
    "simple_net = pickle.load( open( name, \"rb\" ) )"
   ]
  },
  {
   "cell_type": "code",
   "execution_count": 2,
   "metadata": {},
   "outputs": [],
   "source": [
    "test_data = pickle.load(open(\"./Saved_Objects/diabetes/diabetes_test.p\", \"rb\"))\n",
    "training_data = pickle.load(open(\"./Saved_Objects/diabetes/diabetes_train.p\", \"rb\"))"
   ]
  },
  {
   "cell_type": "code",
   "execution_count": 4,
   "metadata": {},
   "outputs": [
    {
     "ename": "ZeroDivisionError",
     "evalue": "division by zero",
     "output_type": "error",
     "traceback": [
      "\u001b[0;31m---------------------------------------------------------------------------\u001b[0m",
      "\u001b[0;31mZeroDivisionError\u001b[0m                         Traceback (most recent call last)",
      "\u001b[0;32m<ipython-input-4-29c8acde1315>\u001b[0m in \u001b[0;36m<module>\u001b[0;34m\u001b[0m\n\u001b[0;32m----> 1\u001b[0;31m \u001b[0mpruned_net\u001b[0m \u001b[0;34m=\u001b[0m \u001b[0mprune\u001b[0m\u001b[0;34m.\u001b[0m\u001b[0mprune_retrain\u001b[0m\u001b[0;34m(\u001b[0m\u001b[0msimple_net\u001b[0m\u001b[0;34m,\u001b[0m\u001b[0;36m0.01\u001b[0m\u001b[0;34m,\u001b[0m \u001b[0mlist\u001b[0m\u001b[0;34m(\u001b[0m\u001b[0mtraining_data\u001b[0m\u001b[0;34m)\u001b[0m\u001b[0;34m,\u001b[0m \u001b[0mlist\u001b[0m\u001b[0;34m(\u001b[0m\u001b[0mtest_data\u001b[0m\u001b[0;34m)\u001b[0m\u001b[0;34m,\u001b[0m \u001b[0mthreshold\u001b[0m\u001b[0;34m=\u001b[0m\u001b[0;36m0.15\u001b[0m\u001b[0;34m,\u001b[0m \u001b[0mverbose\u001b[0m\u001b[0;34m=\u001b[0m\u001b[0;32mTrue\u001b[0m\u001b[0;34m)\u001b[0m\u001b[0;34m\u001b[0m\u001b[0;34m\u001b[0m\u001b[0m\n\u001b[0m",
      "\u001b[0;32m~/work/neuralrules-mnist/prune.py\u001b[0m in \u001b[0;36mprune_retrain\u001b[0;34m(net, region, training_data, test_data, threshold, verbose, validation_data)\u001b[0m\n\u001b[1;32m     48\u001b[0m \u001b[0;34m\u001b[0m\u001b[0m\n\u001b[1;32m     49\u001b[0m \u001b[0;34m\u001b[0m\u001b[0m\n\u001b[0;32m---> 50\u001b[0;31m     \u001b[0macc\u001b[0m \u001b[0;34m=\u001b[0m \u001b[0mnet\u001b[0m\u001b[0;34m.\u001b[0m\u001b[0mevaluate\u001b[0m\u001b[0;34m(\u001b[0m\u001b[0mtest_data\u001b[0m\u001b[0;34m)\u001b[0m \u001b[0;34m/\u001b[0m \u001b[0mlen\u001b[0m\u001b[0;34m(\u001b[0m\u001b[0mtest_data\u001b[0m\u001b[0;34m)\u001b[0m \u001b[0;31m#gonna use the same test data each time?\u001b[0m\u001b[0;34m\u001b[0m\u001b[0;34m\u001b[0m\u001b[0m\n\u001b[0m\u001b[1;32m     51\u001b[0m     \u001b[0md_acc\u001b[0m \u001b[0;34m=\u001b[0m \u001b[0;36m0\u001b[0m\u001b[0;34m\u001b[0m\u001b[0;34m\u001b[0m\u001b[0m\n\u001b[1;32m     52\u001b[0m     \u001b[0mnext_net\u001b[0m \u001b[0;34m=\u001b[0m \u001b[0mnetwork\u001b[0m\u001b[0;34m.\u001b[0m\u001b[0mNetwork\u001b[0m\u001b[0;34m(\u001b[0m\u001b[0mnet\u001b[0m\u001b[0;34m.\u001b[0m\u001b[0msizes\u001b[0m\u001b[0;34m)\u001b[0m\u001b[0;34m\u001b[0m\u001b[0;34m\u001b[0m\u001b[0m\n",
      "\u001b[0;31mZeroDivisionError\u001b[0m: division by zero"
     ]
    }
   ],
   "source": [
    "pruned_net = prune.prune_retrain(simple_net,0.01, list(training_data), list(test_data), threshold=0.15, verbose=True)"
   ]
  },
  {
   "cell_type": "code",
   "execution_count": null,
   "metadata": {},
   "outputs": [],
   "source": [
    "#Find the right pruning threshold"
   ]
  },
  {
   "cell_type": "code",
   "execution_count": null,
   "metadata": {},
   "outputs": [],
   "source": [
    "pickle.dump( pruned_net_conv, open( \"./Saved_Objects/diabetes/pruned_conventionally.p\", \"wb\" ) )"
   ]
  },
  {
   "cell_type": "markdown",
   "metadata": {},
   "source": [
    "## Checkpoint 2"
   ]
  },
  {
   "cell_type": "code",
   "execution_count": null,
   "metadata": {},
   "outputs": [],
   "source": [
    "import numpy as np\n",
    "import pickle\n",
    "pruned_net = pickle.load( open( \"./Saved_Objects/diabetes/pruned_conventionally.p\", \"rb\" ) )"
   ]
  },
  {
   "cell_type": "code",
   "execution_count": null,
   "metadata": {},
   "outputs": [],
   "source": [
    "import networksteep\n",
    "rule_net = networksteep.Network([784,30,10], return_vector=True)\n",
    "rule_net.weights = pruned_net.weights\n",
    "rule_net.biases = pruned_net.biases\n",
    "\n",
    "test_data = pickle.load(open(\"./Saved_Objects/diabetes/diabetes_test.p\", \"rb\"))\n",
    "training_data = pickle.load(open(\"./Saved_Objects/diabetes/diabetes_train.p\", \"rb\"))\n",
    "\n",
    "rule_net.SGD(training_data,30,10,3.0,test_data=test_data)"
   ]
  }
 ],
 "metadata": {
  "kernelspec": {
   "display_name": "Python 3",
   "language": "python",
   "name": "python3"
  },
  "language_info": {
   "codemirror_mode": {
    "name": "ipython",
    "version": 3
   },
   "file_extension": ".py",
   "mimetype": "text/x-python",
   "name": "python",
   "nbconvert_exporter": "python",
   "pygments_lexer": "ipython3",
   "version": "3.7.3"
  }
 },
 "nbformat": 4,
 "nbformat_minor": 4
}
