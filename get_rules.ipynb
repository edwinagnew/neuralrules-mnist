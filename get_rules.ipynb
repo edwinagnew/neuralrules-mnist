{
 "cells": [
  {
   "cell_type": "code",
   "execution_count": 1,
   "metadata": {},
   "outputs": [],
   "source": [
    "import numpy as np\n",
    "import networksteep\n",
    "\n",
    "import mnist_loader\n",
    "training_data, validation_data, test_data = mnist_loader.load_data_wrapper()\n",
    "training_data = list(training_data)\n",
    "test_data = list(test_data)\n",
    "import pickle\n",
    "rule_net = pickle.load( open( \"./Saved_Objects/rule_net.p\", \"rb\" ) )\n",
    "org_weights = rule_net.weights.copy()"
   ]
  },
  {
   "cell_type": "code",
   "execution_count": 2,
   "metadata": {},
   "outputs": [
    {
     "name": "stdout",
     "output_type": "stream",
     "text": [
      "5678\n",
      "784\n"
     ]
    }
   ],
   "source": [
    "train_1 = [entry[0] for entry in training_data if np.argmax(entry[1]) == 1]\n",
    "print(len(train_1))\n",
    "print(len(train_1[0]))"
   ]
  },
  {
   "cell_type": "code",
   "execution_count": 3,
   "metadata": {},
   "outputs": [
    {
     "name": "stdout",
     "output_type": "stream",
     "text": [
      "10000\n"
     ]
    },
    {
     "data": {
      "text/plain": [
       "7"
      ]
     },
     "execution_count": 3,
     "metadata": {},
     "output_type": "execute_result"
    }
   ],
   "source": [
    "print(len(test_data))\n",
    "test_data[0][1]"
   ]
  },
  {
   "cell_type": "code",
   "execution_count": 4,
   "metadata": {},
   "outputs": [
    {
     "name": "stdout",
     "output_type": "stream",
     "text": [
      "1135\n",
      "2\n"
     ]
    }
   ],
   "source": [
    "test_1 = [entry for entry in test_data if entry[1] == 1]\n",
    "print(len(test_1))\n",
    "print(len(test_1[0]))"
   ]
  },
  {
   "cell_type": "code",
   "execution_count": 5,
   "metadata": {},
   "outputs": [
    {
     "data": {
      "text/plain": [
       "<Figure size 640x480 with 1 Axes>"
      ]
     },
     "metadata": {},
     "output_type": "display_data"
    },
    {
     "data": {
      "text/plain": [
       "<Figure size 640x480 with 1 Axes>"
      ]
     },
     "metadata": {},
     "output_type": "display_data"
    },
    {
     "data": {
      "text/plain": [
       "<Figure size 640x480 with 1 Axes>"
      ]
     },
     "metadata": {},
     "output_type": "display_data"
    },
    {
     "data": {
      "text/plain": [
       "<Figure size 640x480 with 1 Axes>"
      ]
     },
     "metadata": {},
     "output_type": "display_data"
    }
   ],
   "source": [
    "import matplotlib.pyplot as plt\n",
    "import random\n",
    "for i in range(4):\n",
    "    img = random.choice(test_1)[0].reshape(28,28)\n",
    "    plt.imshow(img, interpolation='nearest')\n",
    "    plt.show()"
   ]
  },
  {
   "cell_type": "code",
   "execution_count": 6,
   "metadata": {},
   "outputs": [],
   "source": [
    "net_1 = networksteep.Network([784,30,10])\n",
    "net_1.weights = rule_net.weights\n",
    "net_1.biases = rule_net.biases\n",
    "net_1.steepener = 30"
   ]
  },
  {
   "cell_type": "code",
   "execution_count": 7,
   "metadata": {},
   "outputs": [
    {
     "name": "stdout",
     "output_type": "stream",
     "text": [
      "1104 / 1135\n"
     ]
    }
   ],
   "source": [
    "print(net_1.evaluate(test_1) , \"/\", len(test_1))"
   ]
  },
  {
   "cell_type": "code",
   "execution_count": 8,
   "metadata": {},
   "outputs": [
    {
     "data": {
      "text/plain": [
       "0.85"
      ]
     },
     "execution_count": 8,
     "metadata": {},
     "output_type": "execute_result"
    }
   ],
   "source": [
    "def sparsity(weights):\n",
    "    sparsity = 0\n",
    "    total_weights = 0\n",
    "    for i in range(len(weights)):\n",
    "        layer = weights[i]\n",
    "        sparsity += len(layer[layer == 0.0])\n",
    "        total_weights += len(layer.flatten())\n",
    "\n",
    "    return sparsity/total_weights\n",
    "\n",
    "sparsity(net_1.weights)"
   ]
  },
  {
   "cell_type": "code",
   "execution_count": 9,
   "metadata": {},
   "outputs": [
    {
     "data": {
      "text/plain": [
       "(30, 784)"
      ]
     },
     "execution_count": 9,
     "metadata": {},
     "output_type": "execute_result"
    }
   ],
   "source": [
    "net_1.weights[0].shape"
   ]
  },
  {
   "cell_type": "code",
   "execution_count": 10,
   "metadata": {},
   "outputs": [
    {
     "data": {
      "text/plain": [
       "array([[0., 0., 0., ..., 0., 0., 0.],\n",
       "       [0., 0., 0., ..., 0., 0., 0.],\n",
       "       [0., 0., 0., ..., 0., 0., 0.],\n",
       "       ...,\n",
       "       [0., 0., 0., ..., 0., 0., 0.],\n",
       "       [0., 0., 0., ..., 0., 0., 0.],\n",
       "       [0., 0., 0., ..., 0., 0., 0.]])"
      ]
     },
     "execution_count": 10,
     "metadata": {},
     "output_type": "execute_result"
    }
   ],
   "source": [
    "np.zeros(shape=(30,784))"
   ]
  },
  {
   "cell_type": "code",
   "execution_count": 11,
   "metadata": {},
   "outputs": [
    {
     "name": "stdout",
     "output_type": "stream",
     "text": [
      "160  on weights 4 1\n"
     ]
    },
    {
     "data": {
      "image/png": "[encoded data removed]",
      "text/plain": [
       "<Figure size 432x288 with 1 Axes>"
      ]
     },
     "metadata": {
      "needs_background": "light"
     },
     "output_type": "display_data"
    },
    {
     "name": "stdout",
     "output_type": "stream",
     "text": [
      "[-2.13799301 -5.76328751  0.         -3.09638798  2.91208531  5.24069902\n",
      "  5.2264818   2.76420391  0.          0.         -2.4288675  -5.71064079\n",
      "  3.44285513  0.         -6.73683479  0.          2.15392818 -2.51571196\n",
      " -2.79579228  1.5579058   0.          0.          3.72289682 -3.47917325\n",
      "  0.         -3.00840631  0.          5.32222606 -0.75161611  2.45196566]\n",
      "2.9120853087033254\n",
      "1128  on weights 5 1\n"
     ]
    },
    {
     "data": {
      "image/png": "[encoded data removed]",
      "text/plain": [
       "<Figure size 432x288 with 1 Axes>"
      ]
     },
     "metadata": {
      "needs_background": "light"
     },
     "output_type": "display_data"
    },
    {
     "name": "stdout",
     "output_type": "stream",
     "text": [
      "[-2.13799301 -5.76328751  0.         -3.09638798  2.91208531  5.24069902\n",
      "  5.2264818   2.76420391  0.          0.         -2.4288675  -5.71064079\n",
      "  3.44285513  0.         -6.73683479  0.          2.15392818 -2.51571196\n",
      " -2.79579228  1.5579058   0.          0.          3.72289682 -3.47917325\n",
      "  0.         -3.00840631  0.          5.32222606 -0.75161611  2.45196566]\n",
      "5.240699020092622\n",
      "1084  on weights 7 1\n"
     ]
    },
    {
     "data": {
      "image/png": "[encoded data removed]",
      "text/plain": [
       "<Figure size 432x288 with 1 Axes>"
      ]
     },
     "metadata": {
      "needs_background": "light"
     },
     "output_type": "display_data"
    },
    {
     "name": "stdout",
     "output_type": "stream",
     "text": [
      "[-2.13799301 -5.76328751  0.         -3.09638798  2.91208531  5.24069902\n",
      "  5.2264818   2.76420391  0.          0.         -2.4288675  -5.71064079\n",
      "  3.44285513  0.         -6.73683479  0.          2.15392818 -2.51571196\n",
      " -2.79579228  1.5579058   0.          0.          3.72289682 -3.47917325\n",
      "  0.         -3.00840631  0.          5.32222606 -0.75161611  2.45196566]\n",
      "2.7642039072040925\n",
      "1063  on weights 16 1\n"
     ]
    },
    {
     "data": {
      "image/png": "[encoded data removed]",
      "text/plain": [
       "<Figure size 432x288 with 1 Axes>"
      ]
     },
     "metadata": {
      "needs_background": "light"
     },
     "output_type": "display_data"
    },
    {
     "name": "stdout",
     "output_type": "stream",
     "text": [
      "[-2.13799301 -5.76328751  0.         -3.09638798  2.91208531  5.24069902\n",
      "  5.2264818   2.76420391  0.          0.         -2.4288675  -5.71064079\n",
      "  3.44285513  0.         -6.73683479  0.          2.15392818 -2.51571196\n",
      " -2.79579228  1.5579058   0.          0.          3.72289682 -3.47917325\n",
      "  0.         -3.00840631  0.          5.32222606 -0.75161611  2.45196566]\n",
      "2.1539281803546495\n",
      "832  on weights 23 1\n"
     ]
    },
    {
     "data": {
      "image/png": "[encoded data removed]",
      "text/plain": [
       "<Figure size 432x288 with 1 Axes>"
      ]
     },
     "metadata": {
      "needs_background": "light"
     },
     "output_type": "display_data"
    },
    {
     "name": "stdout",
     "output_type": "stream",
     "text": [
      "[-2.13799301 -5.76328751  0.         -3.09638798  2.91208531  5.24069902\n",
      "  5.2264818   2.76420391  0.          0.         -2.4288675  -5.71064079\n",
      "  3.44285513  0.         -6.73683479  0.          2.15392818 -2.51571196\n",
      " -2.79579228  1.5579058   0.          0.          3.72289682 -3.47917325\n",
      "  0.         -3.00840631  0.          5.32222606 -0.75161611  2.45196566]\n",
      "-3.4791732545328764\n",
      "1107  on weights 27 1\n"
     ]
    },
    {
     "data": {
      "image/png": "[encoded data removed]",
      "text/plain": [
       "<Figure size 432x288 with 1 Axes>"
      ]
     },
     "metadata": {
      "needs_background": "light"
     },
     "output_type": "display_data"
    },
    {
     "name": "stdout",
     "output_type": "stream",
     "text": [
      "[-2.13799301 -5.76328751  0.         -3.09638798  2.91208531  5.24069902\n",
      "  5.2264818   2.76420391  0.          0.         -2.4288675  -5.71064079\n",
      "  3.44285513  0.         -6.73683479  0.          2.15392818 -2.51571196\n",
      " -2.79579228  1.5579058   0.          0.          3.72289682 -3.47917325\n",
      "  0.         -3.00840631  0.          5.32222606 -0.75161611  2.45196566]\n",
      "5.322226063741441\n",
      "43  on weights 29 1\n"
     ]
    },
    {
     "data": {
      "image/png": "[encoded data removed]",
      "text/plain": [
       "<Figure size 432x288 with 1 Axes>"
      ]
     },
     "metadata": {
      "needs_background": "light"
     },
     "output_type": "display_data"
    },
    {
     "name": "stdout",
     "output_type": "stream",
     "text": [
      "[-2.13799301 -5.76328751  0.         -3.09638798  2.91208531  5.24069902\n",
      "  5.2264818   2.76420391  0.          0.         -2.4288675  -5.71064079\n",
      "  3.44285513  0.         -6.73683479  0.          2.15392818 -2.51571196\n",
      " -2.79579228  1.5579058   0.          0.          3.72289682 -3.47917325\n",
      "  0.         -3.00840631  0.          5.32222606 -0.75161611  2.45196566]\n",
      "2.4519656626912165\n"
     ]
    }
   ],
   "source": [
    "for i in range(30): \n",
    "    #net_1.weights = np.copy(org_weights)\n",
    "    net_1.weights[0] = np.zeros(shape=net_1.weights[0].shape)\n",
    "    net_1.weights[0][i] = np.copy(org_weights[0][i])\n",
    "    for j in range(10): \n",
    "        net_1.weights[1] = np.zeros(shape=net_1.weights[1].shape)\n",
    "        net_1.weights[1][j] = np.copy(org_weights[1][j])\n",
    "        acc = net_1.evaluate(test_1)\n",
    "        if acc > 0:\n",
    "            print(net_1.evaluate(test_1) , \" on weights\", i,j)\n",
    "            img = net_1.weights[0][i].reshape(28,28)\n",
    "            plt.imshow(img, interpolation='nearest')\n",
    "            plt.show()\n",
    "            \n",
    "            print(net_1.weights[1][j])\n",
    "            ranks = np.argsort(net_1.weights[1][j]) #try to print the rank of vv that number\n",
    "            print(net_1.weights[1][j][i])"
   ]
  },
  {
   "cell_type": "code",
   "execution_count": 12,
   "metadata": {},
   "outputs": [
    {
     "data": {
      "text/plain": [
       "0.85"
      ]
     },
     "execution_count": 12,
     "metadata": {},
     "output_type": "execute_result"
    }
   ],
   "source": [
    "sparsity(org_weights)"
   ]
  },
  {
   "cell_type": "code",
   "execution_count": 13,
   "metadata": {},
   "outputs": [],
   "source": [
    "net_0 = networksteep.Network([784,30,10])\n",
    "net_0.weights = rule_net.weights\n",
    "net_0.biases = rule_net.biases\n",
    "net_0.steepener = 30"
   ]
  },
  {
   "cell_type": "code",
   "execution_count": 15,
   "metadata": {},
   "outputs": [
    {
     "name": "stdout",
     "output_type": "stream",
     "text": [
      "980\n",
      "2\n"
     ]
    }
   ],
   "source": [
    "test_0 = [entry for entry in test_data if entry[1] == 0]\n",
    "print(len(test_0))\n",
    "print(len(test_0[0]))"
   ]
  },
  {
   "cell_type": "code",
   "execution_count": 16,
   "metadata": {},
   "outputs": [
    {
     "name": "stdout",
     "output_type": "stream",
     "text": [
      "980 / 980\n"
     ]
    }
   ],
   "source": [
    "print(net_0.evaluate(test_0) , \"/\", len(test_0))"
   ]
  },
  {
   "cell_type": "code",
   "execution_count": null,
   "metadata": {},
   "outputs": [],
   "source": [
    "for i in range(30): \n",
    "    #net_1.weights = np.copy(org_weights)\n",
    "    net_0.weights[0] = np.zeros(shape=net_0.weights[0].shape)\n",
    "    net_0.weights[0][i] = np.copy(org_weights[0][i])\n",
    "    for j in range(10): \n",
    "        net_0.weights[1] = np.zeros(shape=net_0.weights[1].shape)\n",
    "        net_0.weights[1][j] = np.copy(org_weights[1][j])\n",
    "        acc = net_0.evaluate(test_0)\n",
    "        if acc != 980:\n",
    "            print(net_0.evaluate(test_0) , \" on weights\", i,j)\n",
    "            img = net_0.weights[0][i].reshape(28,28)\n",
    "            plt.imshow(img, interpolation='nearest')\n",
    "            plt.show()\n",
    "            \n",
    "            print(net_0.weights[1][j])\n",
    "            ranks = np.argsort(net_0.weights[1][j]) #try to print the rank of vv that number\n",
    "            print(net_0.weights[1][j][i])"
   ]
  },
  {
   "cell_type": "code",
   "execution_count": null,
   "metadata": {},
   "outputs": [],
   "source": []
  }
 ],
 "metadata": {
  "kernelspec": {
   "display_name": "Python 3",
   "language": "python",
   "name": "python3"
  },
  "language_info": {
   "codemirror_mode": {
    "name": "ipython",
    "version": 3
   },
   "file_extension": ".py",
   "mimetype": "text/x-python",
   "name": "python",
   "nbconvert_exporter": "python",
   "pygments_lexer": "ipython3",
   "version": "3.7.3"
  }
 },
 "nbformat": 4,
 "nbformat_minor": 4
}
